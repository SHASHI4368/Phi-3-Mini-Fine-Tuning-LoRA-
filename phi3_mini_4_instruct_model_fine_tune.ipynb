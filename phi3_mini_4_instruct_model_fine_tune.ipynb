{
  "nbformat": 4,
  "nbformat_minor": 0,
  "metadata": {
    "colab": {
      "provenance": [],
      "gpuType": "T4"
    },
    "kernelspec": {
      "name": "python3",
      "display_name": "Python 3"
    },
    "language_info": {
      "name": "python"
    },
    "accelerator": "GPU",
    "widgets": {
      "application/vnd.jupyter.widget-state+json": {
        "2d03b69e27ca4d21be8d2b28e820f38a": {
          "model_module": "@jupyter-widgets/controls",
          "model_name": "HBoxModel",
          "model_module_version": "1.5.0",
          "state": {
            "_dom_classes": [],
            "_model_module": "@jupyter-widgets/controls",
            "_model_module_version": "1.5.0",
            "_model_name": "HBoxModel",
            "_view_count": null,
            "_view_module": "@jupyter-widgets/controls",
            "_view_module_version": "1.5.0",
            "_view_name": "HBoxView",
            "box_style": "",
            "children": [
              "IPY_MODEL_3c284822624149828346f81d2a058baa",
              "IPY_MODEL_274acee21223418a97628e1f7878e87c",
              "IPY_MODEL_58e67af9378b4cfda5b9f5c2b6a4903f"
            ],
            "layout": "IPY_MODEL_a88693ce148047e9bc1d508459eaf9ee"
          }
        },
        "3c284822624149828346f81d2a058baa": {
          "model_module": "@jupyter-widgets/controls",
          "model_name": "HTMLModel",
          "model_module_version": "1.5.0",
          "state": {
            "_dom_classes": [],
            "_model_module": "@jupyter-widgets/controls",
            "_model_module_version": "1.5.0",
            "_model_name": "HTMLModel",
            "_view_count": null,
            "_view_module": "@jupyter-widgets/controls",
            "_view_module_version": "1.5.0",
            "_view_name": "HTMLView",
            "description": "",
            "description_tooltip": null,
            "layout": "IPY_MODEL_8df67b69421f4f3286a83d6e16ef2186",
            "placeholder": "​",
            "style": "IPY_MODEL_cad135d3c5a24df09d0ff90a60e83072",
            "value": "Loading checkpoint shards: 100%"
          }
        },
        "274acee21223418a97628e1f7878e87c": {
          "model_module": "@jupyter-widgets/controls",
          "model_name": "FloatProgressModel",
          "model_module_version": "1.5.0",
          "state": {
            "_dom_classes": [],
            "_model_module": "@jupyter-widgets/controls",
            "_model_module_version": "1.5.0",
            "_model_name": "FloatProgressModel",
            "_view_count": null,
            "_view_module": "@jupyter-widgets/controls",
            "_view_module_version": "1.5.0",
            "_view_name": "ProgressView",
            "bar_style": "success",
            "description": "",
            "description_tooltip": null,
            "layout": "IPY_MODEL_ec177a1c737647e08a2e533e4c83138d",
            "max": 2,
            "min": 0,
            "orientation": "horizontal",
            "style": "IPY_MODEL_b0639e0d655e416ca46b3c6284627a43",
            "value": 2
          }
        },
        "58e67af9378b4cfda5b9f5c2b6a4903f": {
          "model_module": "@jupyter-widgets/controls",
          "model_name": "HTMLModel",
          "model_module_version": "1.5.0",
          "state": {
            "_dom_classes": [],
            "_model_module": "@jupyter-widgets/controls",
            "_model_module_version": "1.5.0",
            "_model_name": "HTMLModel",
            "_view_count": null,
            "_view_module": "@jupyter-widgets/controls",
            "_view_module_version": "1.5.0",
            "_view_name": "HTMLView",
            "description": "",
            "description_tooltip": null,
            "layout": "IPY_MODEL_21f89f99b6a5408d8656f46a110fdb75",
            "placeholder": "​",
            "style": "IPY_MODEL_a769e4d8457f44f2b0d9d0abc83f62ed",
            "value": " 2/2 [00:39&lt;00:00, 18.57s/it]"
          }
        },
        "a88693ce148047e9bc1d508459eaf9ee": {
          "model_module": "@jupyter-widgets/base",
          "model_name": "LayoutModel",
          "model_module_version": "1.2.0",
          "state": {
            "_model_module": "@jupyter-widgets/base",
            "_model_module_version": "1.2.0",
            "_model_name": "LayoutModel",
            "_view_count": null,
            "_view_module": "@jupyter-widgets/base",
            "_view_module_version": "1.2.0",
            "_view_name": "LayoutView",
            "align_content": null,
            "align_items": null,
            "align_self": null,
            "border": null,
            "bottom": null,
            "display": null,
            "flex": null,
            "flex_flow": null,
            "grid_area": null,
            "grid_auto_columns": null,
            "grid_auto_flow": null,
            "grid_auto_rows": null,
            "grid_column": null,
            "grid_gap": null,
            "grid_row": null,
            "grid_template_areas": null,
            "grid_template_columns": null,
            "grid_template_rows": null,
            "height": null,
            "justify_content": null,
            "justify_items": null,
            "left": null,
            "margin": null,
            "max_height": null,
            "max_width": null,
            "min_height": null,
            "min_width": null,
            "object_fit": null,
            "object_position": null,
            "order": null,
            "overflow": null,
            "overflow_x": null,
            "overflow_y": null,
            "padding": null,
            "right": null,
            "top": null,
            "visibility": null,
            "width": null
          }
        },
        "8df67b69421f4f3286a83d6e16ef2186": {
          "model_module": "@jupyter-widgets/base",
          "model_name": "LayoutModel",
          "model_module_version": "1.2.0",
          "state": {
            "_model_module": "@jupyter-widgets/base",
            "_model_module_version": "1.2.0",
            "_model_name": "LayoutModel",
            "_view_count": null,
            "_view_module": "@jupyter-widgets/base",
            "_view_module_version": "1.2.0",
            "_view_name": "LayoutView",
            "align_content": null,
            "align_items": null,
            "align_self": null,
            "border": null,
            "bottom": null,
            "display": null,
            "flex": null,
            "flex_flow": null,
            "grid_area": null,
            "grid_auto_columns": null,
            "grid_auto_flow": null,
            "grid_auto_rows": null,
            "grid_column": null,
            "grid_gap": null,
            "grid_row": null,
            "grid_template_areas": null,
            "grid_template_columns": null,
            "grid_template_rows": null,
            "height": null,
            "justify_content": null,
            "justify_items": null,
            "left": null,
            "margin": null,
            "max_height": null,
            "max_width": null,
            "min_height": null,
            "min_width": null,
            "object_fit": null,
            "object_position": null,
            "order": null,
            "overflow": null,
            "overflow_x": null,
            "overflow_y": null,
            "padding": null,
            "right": null,
            "top": null,
            "visibility": null,
            "width": null
          }
        },
        "cad135d3c5a24df09d0ff90a60e83072": {
          "model_module": "@jupyter-widgets/controls",
          "model_name": "DescriptionStyleModel",
          "model_module_version": "1.5.0",
          "state": {
            "_model_module": "@jupyter-widgets/controls",
            "_model_module_version": "1.5.0",
            "_model_name": "DescriptionStyleModel",
            "_view_count": null,
            "_view_module": "@jupyter-widgets/base",
            "_view_module_version": "1.2.0",
            "_view_name": "StyleView",
            "description_width": ""
          }
        },
        "ec177a1c737647e08a2e533e4c83138d": {
          "model_module": "@jupyter-widgets/base",
          "model_name": "LayoutModel",
          "model_module_version": "1.2.0",
          "state": {
            "_model_module": "@jupyter-widgets/base",
            "_model_module_version": "1.2.0",
            "_model_name": "LayoutModel",
            "_view_count": null,
            "_view_module": "@jupyter-widgets/base",
            "_view_module_version": "1.2.0",
            "_view_name": "LayoutView",
            "align_content": null,
            "align_items": null,
            "align_self": null,
            "border": null,
            "bottom": null,
            "display": null,
            "flex": null,
            "flex_flow": null,
            "grid_area": null,
            "grid_auto_columns": null,
            "grid_auto_flow": null,
            "grid_auto_rows": null,
            "grid_column": null,
            "grid_gap": null,
            "grid_row": null,
            "grid_template_areas": null,
            "grid_template_columns": null,
            "grid_template_rows": null,
            "height": null,
            "justify_content": null,
            "justify_items": null,
            "left": null,
            "margin": null,
            "max_height": null,
            "max_width": null,
            "min_height": null,
            "min_width": null,
            "object_fit": null,
            "object_position": null,
            "order": null,
            "overflow": null,
            "overflow_x": null,
            "overflow_y": null,
            "padding": null,
            "right": null,
            "top": null,
            "visibility": null,
            "width": null
          }
        },
        "b0639e0d655e416ca46b3c6284627a43": {
          "model_module": "@jupyter-widgets/controls",
          "model_name": "ProgressStyleModel",
          "model_module_version": "1.5.0",
          "state": {
            "_model_module": "@jupyter-widgets/controls",
            "_model_module_version": "1.5.0",
            "_model_name": "ProgressStyleModel",
            "_view_count": null,
            "_view_module": "@jupyter-widgets/base",
            "_view_module_version": "1.2.0",
            "_view_name": "StyleView",
            "bar_color": null,
            "description_width": ""
          }
        },
        "21f89f99b6a5408d8656f46a110fdb75": {
          "model_module": "@jupyter-widgets/base",
          "model_name": "LayoutModel",
          "model_module_version": "1.2.0",
          "state": {
            "_model_module": "@jupyter-widgets/base",
            "_model_module_version": "1.2.0",
            "_model_name": "LayoutModel",
            "_view_count": null,
            "_view_module": "@jupyter-widgets/base",
            "_view_module_version": "1.2.0",
            "_view_name": "LayoutView",
            "align_content": null,
            "align_items": null,
            "align_self": null,
            "border": null,
            "bottom": null,
            "display": null,
            "flex": null,
            "flex_flow": null,
            "grid_area": null,
            "grid_auto_columns": null,
            "grid_auto_flow": null,
            "grid_auto_rows": null,
            "grid_column": null,
            "grid_gap": null,
            "grid_row": null,
            "grid_template_areas": null,
            "grid_template_columns": null,
            "grid_template_rows": null,
            "height": null,
            "justify_content": null,
            "justify_items": null,
            "left": null,
            "margin": null,
            "max_height": null,
            "max_width": null,
            "min_height": null,
            "min_width": null,
            "object_fit": null,
            "object_position": null,
            "order": null,
            "overflow": null,
            "overflow_x": null,
            "overflow_y": null,
            "padding": null,
            "right": null,
            "top": null,
            "visibility": null,
            "width": null
          }
        },
        "a769e4d8457f44f2b0d9d0abc83f62ed": {
          "model_module": "@jupyter-widgets/controls",
          "model_name": "DescriptionStyleModel",
          "model_module_version": "1.5.0",
          "state": {
            "_model_module": "@jupyter-widgets/controls",
            "_model_module_version": "1.5.0",
            "_model_name": "DescriptionStyleModel",
            "_view_count": null,
            "_view_module": "@jupyter-widgets/base",
            "_view_module_version": "1.2.0",
            "_view_name": "StyleView",
            "description_width": ""
          }
        },
        "72a4512d9bf7469fb5dc9b95444fc6b0": {
          "model_module": "@jupyter-widgets/controls",
          "model_name": "HBoxModel",
          "model_module_version": "1.5.0",
          "state": {
            "_dom_classes": [],
            "_model_module": "@jupyter-widgets/controls",
            "_model_module_version": "1.5.0",
            "_model_name": "HBoxModel",
            "_view_count": null,
            "_view_module": "@jupyter-widgets/controls",
            "_view_module_version": "1.5.0",
            "_view_name": "HBoxView",
            "box_style": "",
            "children": [
              "IPY_MODEL_37eacdd201e04091a2a337e2a7e6c5ad",
              "IPY_MODEL_1ce1234f409c4cbabaa12ec04c340f24",
              "IPY_MODEL_563b544b1d3340a5a7f865b84c59804c"
            ],
            "layout": "IPY_MODEL_dee9fd4317a340a3a37794b7f1061e2f"
          }
        },
        "37eacdd201e04091a2a337e2a7e6c5ad": {
          "model_module": "@jupyter-widgets/controls",
          "model_name": "HTMLModel",
          "model_module_version": "1.5.0",
          "state": {
            "_dom_classes": [],
            "_model_module": "@jupyter-widgets/controls",
            "_model_module_version": "1.5.0",
            "_model_name": "HTMLModel",
            "_view_count": null,
            "_view_module": "@jupyter-widgets/controls",
            "_view_module_version": "1.5.0",
            "_view_name": "HTMLView",
            "description": "",
            "description_tooltip": null,
            "layout": "IPY_MODEL_9111ad3f97614edfb4b685633633dc0e",
            "placeholder": "​",
            "style": "IPY_MODEL_56cdd78b4cf64eaaae345facd8f60dae",
            "value": "Map: 100%"
          }
        },
        "1ce1234f409c4cbabaa12ec04c340f24": {
          "model_module": "@jupyter-widgets/controls",
          "model_name": "FloatProgressModel",
          "model_module_version": "1.5.0",
          "state": {
            "_dom_classes": [],
            "_model_module": "@jupyter-widgets/controls",
            "_model_module_version": "1.5.0",
            "_model_name": "FloatProgressModel",
            "_view_count": null,
            "_view_module": "@jupyter-widgets/controls",
            "_view_module_version": "1.5.0",
            "_view_name": "ProgressView",
            "bar_style": "success",
            "description": "",
            "description_tooltip": null,
            "layout": "IPY_MODEL_c4e81c960deb4aa7937c87e73218c3dc",
            "max": 1000,
            "min": 0,
            "orientation": "horizontal",
            "style": "IPY_MODEL_cd9a44fc61dd45a097a4adf811b5146d",
            "value": 1000
          }
        },
        "563b544b1d3340a5a7f865b84c59804c": {
          "model_module": "@jupyter-widgets/controls",
          "model_name": "HTMLModel",
          "model_module_version": "1.5.0",
          "state": {
            "_dom_classes": [],
            "_model_module": "@jupyter-widgets/controls",
            "_model_module_version": "1.5.0",
            "_model_name": "HTMLModel",
            "_view_count": null,
            "_view_module": "@jupyter-widgets/controls",
            "_view_module_version": "1.5.0",
            "_view_name": "HTMLView",
            "description": "",
            "description_tooltip": null,
            "layout": "IPY_MODEL_ac77c75bac1b49d88e39207a33bd8716",
            "placeholder": "​",
            "style": "IPY_MODEL_884c5ae5e59644b5ae0f1567c440cef1",
            "value": " 1000/1000 [00:00&lt;00:00, 3656.03 examples/s]"
          }
        },
        "dee9fd4317a340a3a37794b7f1061e2f": {
          "model_module": "@jupyter-widgets/base",
          "model_name": "LayoutModel",
          "model_module_version": "1.2.0",
          "state": {
            "_model_module": "@jupyter-widgets/base",
            "_model_module_version": "1.2.0",
            "_model_name": "LayoutModel",
            "_view_count": null,
            "_view_module": "@jupyter-widgets/base",
            "_view_module_version": "1.2.0",
            "_view_name": "LayoutView",
            "align_content": null,
            "align_items": null,
            "align_self": null,
            "border": null,
            "bottom": null,
            "display": null,
            "flex": null,
            "flex_flow": null,
            "grid_area": null,
            "grid_auto_columns": null,
            "grid_auto_flow": null,
            "grid_auto_rows": null,
            "grid_column": null,
            "grid_gap": null,
            "grid_row": null,
            "grid_template_areas": null,
            "grid_template_columns": null,
            "grid_template_rows": null,
            "height": null,
            "justify_content": null,
            "justify_items": null,
            "left": null,
            "margin": null,
            "max_height": null,
            "max_width": null,
            "min_height": null,
            "min_width": null,
            "object_fit": null,
            "object_position": null,
            "order": null,
            "overflow": null,
            "overflow_x": null,
            "overflow_y": null,
            "padding": null,
            "right": null,
            "top": null,
            "visibility": null,
            "width": null
          }
        },
        "9111ad3f97614edfb4b685633633dc0e": {
          "model_module": "@jupyter-widgets/base",
          "model_name": "LayoutModel",
          "model_module_version": "1.2.0",
          "state": {
            "_model_module": "@jupyter-widgets/base",
            "_model_module_version": "1.2.0",
            "_model_name": "LayoutModel",
            "_view_count": null,
            "_view_module": "@jupyter-widgets/base",
            "_view_module_version": "1.2.0",
            "_view_name": "LayoutView",
            "align_content": null,
            "align_items": null,
            "align_self": null,
            "border": null,
            "bottom": null,
            "display": null,
            "flex": null,
            "flex_flow": null,
            "grid_area": null,
            "grid_auto_columns": null,
            "grid_auto_flow": null,
            "grid_auto_rows": null,
            "grid_column": null,
            "grid_gap": null,
            "grid_row": null,
            "grid_template_areas": null,
            "grid_template_columns": null,
            "grid_template_rows": null,
            "height": null,
            "justify_content": null,
            "justify_items": null,
            "left": null,
            "margin": null,
            "max_height": null,
            "max_width": null,
            "min_height": null,
            "min_width": null,
            "object_fit": null,
            "object_position": null,
            "order": null,
            "overflow": null,
            "overflow_x": null,
            "overflow_y": null,
            "padding": null,
            "right": null,
            "top": null,
            "visibility": null,
            "width": null
          }
        },
        "56cdd78b4cf64eaaae345facd8f60dae": {
          "model_module": "@jupyter-widgets/controls",
          "model_name": "DescriptionStyleModel",
          "model_module_version": "1.5.0",
          "state": {
            "_model_module": "@jupyter-widgets/controls",
            "_model_module_version": "1.5.0",
            "_model_name": "DescriptionStyleModel",
            "_view_count": null,
            "_view_module": "@jupyter-widgets/base",
            "_view_module_version": "1.2.0",
            "_view_name": "StyleView",
            "description_width": ""
          }
        },
        "c4e81c960deb4aa7937c87e73218c3dc": {
          "model_module": "@jupyter-widgets/base",
          "model_name": "LayoutModel",
          "model_module_version": "1.2.0",
          "state": {
            "_model_module": "@jupyter-widgets/base",
            "_model_module_version": "1.2.0",
            "_model_name": "LayoutModel",
            "_view_count": null,
            "_view_module": "@jupyter-widgets/base",
            "_view_module_version": "1.2.0",
            "_view_name": "LayoutView",
            "align_content": null,
            "align_items": null,
            "align_self": null,
            "border": null,
            "bottom": null,
            "display": null,
            "flex": null,
            "flex_flow": null,
            "grid_area": null,
            "grid_auto_columns": null,
            "grid_auto_flow": null,
            "grid_auto_rows": null,
            "grid_column": null,
            "grid_gap": null,
            "grid_row": null,
            "grid_template_areas": null,
            "grid_template_columns": null,
            "grid_template_rows": null,
            "height": null,
            "justify_content": null,
            "justify_items": null,
            "left": null,
            "margin": null,
            "max_height": null,
            "max_width": null,
            "min_height": null,
            "min_width": null,
            "object_fit": null,
            "object_position": null,
            "order": null,
            "overflow": null,
            "overflow_x": null,
            "overflow_y": null,
            "padding": null,
            "right": null,
            "top": null,
            "visibility": null,
            "width": null
          }
        },
        "cd9a44fc61dd45a097a4adf811b5146d": {
          "model_module": "@jupyter-widgets/controls",
          "model_name": "ProgressStyleModel",
          "model_module_version": "1.5.0",
          "state": {
            "_model_module": "@jupyter-widgets/controls",
            "_model_module_version": "1.5.0",
            "_model_name": "ProgressStyleModel",
            "_view_count": null,
            "_view_module": "@jupyter-widgets/base",
            "_view_module_version": "1.2.0",
            "_view_name": "StyleView",
            "bar_color": null,
            "description_width": ""
          }
        },
        "ac77c75bac1b49d88e39207a33bd8716": {
          "model_module": "@jupyter-widgets/base",
          "model_name": "LayoutModel",
          "model_module_version": "1.2.0",
          "state": {
            "_model_module": "@jupyter-widgets/base",
            "_model_module_version": "1.2.0",
            "_model_name": "LayoutModel",
            "_view_count": null,
            "_view_module": "@jupyter-widgets/base",
            "_view_module_version": "1.2.0",
            "_view_name": "LayoutView",
            "align_content": null,
            "align_items": null,
            "align_self": null,
            "border": null,
            "bottom": null,
            "display": null,
            "flex": null,
            "flex_flow": null,
            "grid_area": null,
            "grid_auto_columns": null,
            "grid_auto_flow": null,
            "grid_auto_rows": null,
            "grid_column": null,
            "grid_gap": null,
            "grid_row": null,
            "grid_template_areas": null,
            "grid_template_columns": null,
            "grid_template_rows": null,
            "height": null,
            "justify_content": null,
            "justify_items": null,
            "left": null,
            "margin": null,
            "max_height": null,
            "max_width": null,
            "min_height": null,
            "min_width": null,
            "object_fit": null,
            "object_position": null,
            "order": null,
            "overflow": null,
            "overflow_x": null,
            "overflow_y": null,
            "padding": null,
            "right": null,
            "top": null,
            "visibility": null,
            "width": null
          }
        },
        "884c5ae5e59644b5ae0f1567c440cef1": {
          "model_module": "@jupyter-widgets/controls",
          "model_name": "DescriptionStyleModel",
          "model_module_version": "1.5.0",
          "state": {
            "_model_module": "@jupyter-widgets/controls",
            "_model_module_version": "1.5.0",
            "_model_name": "DescriptionStyleModel",
            "_view_count": null,
            "_view_module": "@jupyter-widgets/base",
            "_view_module_version": "1.2.0",
            "_view_name": "StyleView",
            "description_width": ""
          }
        },
        "0637172d87a841cd86f52c9d891d67aa": {
          "model_module": "@jupyter-widgets/controls",
          "model_name": "HBoxModel",
          "model_module_version": "1.5.0",
          "state": {
            "_dom_classes": [],
            "_model_module": "@jupyter-widgets/controls",
            "_model_module_version": "1.5.0",
            "_model_name": "HBoxModel",
            "_view_count": null,
            "_view_module": "@jupyter-widgets/controls",
            "_view_module_version": "1.5.0",
            "_view_name": "HBoxView",
            "box_style": "",
            "children": [
              "IPY_MODEL_e1eccd482e264beeae0ac8d1e2294333",
              "IPY_MODEL_71b4df6569c9464ebc6f1b6cf9d23015",
              "IPY_MODEL_1a1a59208fc44b009fca6f986421d8e5"
            ],
            "layout": "IPY_MODEL_a0fa8949309b40e5916e4861f5176531"
          }
        },
        "e1eccd482e264beeae0ac8d1e2294333": {
          "model_module": "@jupyter-widgets/controls",
          "model_name": "HTMLModel",
          "model_module_version": "1.5.0",
          "state": {
            "_dom_classes": [],
            "_model_module": "@jupyter-widgets/controls",
            "_model_module_version": "1.5.0",
            "_model_name": "HTMLModel",
            "_view_count": null,
            "_view_module": "@jupyter-widgets/controls",
            "_view_module_version": "1.5.0",
            "_view_name": "HTMLView",
            "description": "",
            "description_tooltip": null,
            "layout": "IPY_MODEL_ba9f3e660e024b9eab8c76ec783da8a8",
            "placeholder": "​",
            "style": "IPY_MODEL_b8768c183d664ea8a507274ec24d7c81",
            "value": "Map: 100%"
          }
        },
        "71b4df6569c9464ebc6f1b6cf9d23015": {
          "model_module": "@jupyter-widgets/controls",
          "model_name": "FloatProgressModel",
          "model_module_version": "1.5.0",
          "state": {
            "_dom_classes": [],
            "_model_module": "@jupyter-widgets/controls",
            "_model_module_version": "1.5.0",
            "_model_name": "FloatProgressModel",
            "_view_count": null,
            "_view_module": "@jupyter-widgets/controls",
            "_view_module_version": "1.5.0",
            "_view_name": "ProgressView",
            "bar_style": "success",
            "description": "",
            "description_tooltip": null,
            "layout": "IPY_MODEL_0b23c7beedd84f6b9c7fd92f0dc1aa9b",
            "max": 1000,
            "min": 0,
            "orientation": "horizontal",
            "style": "IPY_MODEL_46b919723979417dae4b7f3ddd931673",
            "value": 1000
          }
        },
        "1a1a59208fc44b009fca6f986421d8e5": {
          "model_module": "@jupyter-widgets/controls",
          "model_name": "HTMLModel",
          "model_module_version": "1.5.0",
          "state": {
            "_dom_classes": [],
            "_model_module": "@jupyter-widgets/controls",
            "_model_module_version": "1.5.0",
            "_model_name": "HTMLModel",
            "_view_count": null,
            "_view_module": "@jupyter-widgets/controls",
            "_view_module_version": "1.5.0",
            "_view_name": "HTMLView",
            "description": "",
            "description_tooltip": null,
            "layout": "IPY_MODEL_34536cda7bbb41039d578d089f2f083f",
            "placeholder": "​",
            "style": "IPY_MODEL_bf27afd063c24bd99194efb1aa010847",
            "value": " 1000/1000 [00:00&lt;00:00, 1105.89 examples/s]"
          }
        },
        "a0fa8949309b40e5916e4861f5176531": {
          "model_module": "@jupyter-widgets/base",
          "model_name": "LayoutModel",
          "model_module_version": "1.2.0",
          "state": {
            "_model_module": "@jupyter-widgets/base",
            "_model_module_version": "1.2.0",
            "_model_name": "LayoutModel",
            "_view_count": null,
            "_view_module": "@jupyter-widgets/base",
            "_view_module_version": "1.2.0",
            "_view_name": "LayoutView",
            "align_content": null,
            "align_items": null,
            "align_self": null,
            "border": null,
            "bottom": null,
            "display": null,
            "flex": null,
            "flex_flow": null,
            "grid_area": null,
            "grid_auto_columns": null,
            "grid_auto_flow": null,
            "grid_auto_rows": null,
            "grid_column": null,
            "grid_gap": null,
            "grid_row": null,
            "grid_template_areas": null,
            "grid_template_columns": null,
            "grid_template_rows": null,
            "height": null,
            "justify_content": null,
            "justify_items": null,
            "left": null,
            "margin": null,
            "max_height": null,
            "max_width": null,
            "min_height": null,
            "min_width": null,
            "object_fit": null,
            "object_position": null,
            "order": null,
            "overflow": null,
            "overflow_x": null,
            "overflow_y": null,
            "padding": null,
            "right": null,
            "top": null,
            "visibility": null,
            "width": null
          }
        },
        "ba9f3e660e024b9eab8c76ec783da8a8": {
          "model_module": "@jupyter-widgets/base",
          "model_name": "LayoutModel",
          "model_module_version": "1.2.0",
          "state": {
            "_model_module": "@jupyter-widgets/base",
            "_model_module_version": "1.2.0",
            "_model_name": "LayoutModel",
            "_view_count": null,
            "_view_module": "@jupyter-widgets/base",
            "_view_module_version": "1.2.0",
            "_view_name": "LayoutView",
            "align_content": null,
            "align_items": null,
            "align_self": null,
            "border": null,
            "bottom": null,
            "display": null,
            "flex": null,
            "flex_flow": null,
            "grid_area": null,
            "grid_auto_columns": null,
            "grid_auto_flow": null,
            "grid_auto_rows": null,
            "grid_column": null,
            "grid_gap": null,
            "grid_row": null,
            "grid_template_areas": null,
            "grid_template_columns": null,
            "grid_template_rows": null,
            "height": null,
            "justify_content": null,
            "justify_items": null,
            "left": null,
            "margin": null,
            "max_height": null,
            "max_width": null,
            "min_height": null,
            "min_width": null,
            "object_fit": null,
            "object_position": null,
            "order": null,
            "overflow": null,
            "overflow_x": null,
            "overflow_y": null,
            "padding": null,
            "right": null,
            "top": null,
            "visibility": null,
            "width": null
          }
        },
        "b8768c183d664ea8a507274ec24d7c81": {
          "model_module": "@jupyter-widgets/controls",
          "model_name": "DescriptionStyleModel",
          "model_module_version": "1.5.0",
          "state": {
            "_model_module": "@jupyter-widgets/controls",
            "_model_module_version": "1.5.0",
            "_model_name": "DescriptionStyleModel",
            "_view_count": null,
            "_view_module": "@jupyter-widgets/base",
            "_view_module_version": "1.2.0",
            "_view_name": "StyleView",
            "description_width": ""
          }
        },
        "0b23c7beedd84f6b9c7fd92f0dc1aa9b": {
          "model_module": "@jupyter-widgets/base",
          "model_name": "LayoutModel",
          "model_module_version": "1.2.0",
          "state": {
            "_model_module": "@jupyter-widgets/base",
            "_model_module_version": "1.2.0",
            "_model_name": "LayoutModel",
            "_view_count": null,
            "_view_module": "@jupyter-widgets/base",
            "_view_module_version": "1.2.0",
            "_view_name": "LayoutView",
            "align_content": null,
            "align_items": null,
            "align_self": null,
            "border": null,
            "bottom": null,
            "display": null,
            "flex": null,
            "flex_flow": null,
            "grid_area": null,
            "grid_auto_columns": null,
            "grid_auto_flow": null,
            "grid_auto_rows": null,
            "grid_column": null,
            "grid_gap": null,
            "grid_row": null,
            "grid_template_areas": null,
            "grid_template_columns": null,
            "grid_template_rows": null,
            "height": null,
            "justify_content": null,
            "justify_items": null,
            "left": null,
            "margin": null,
            "max_height": null,
            "max_width": null,
            "min_height": null,
            "min_width": null,
            "object_fit": null,
            "object_position": null,
            "order": null,
            "overflow": null,
            "overflow_x": null,
            "overflow_y": null,
            "padding": null,
            "right": null,
            "top": null,
            "visibility": null,
            "width": null
          }
        },
        "46b919723979417dae4b7f3ddd931673": {
          "model_module": "@jupyter-widgets/controls",
          "model_name": "ProgressStyleModel",
          "model_module_version": "1.5.0",
          "state": {
            "_model_module": "@jupyter-widgets/controls",
            "_model_module_version": "1.5.0",
            "_model_name": "ProgressStyleModel",
            "_view_count": null,
            "_view_module": "@jupyter-widgets/base",
            "_view_module_version": "1.2.0",
            "_view_name": "StyleView",
            "bar_color": null,
            "description_width": ""
          }
        },
        "34536cda7bbb41039d578d089f2f083f": {
          "model_module": "@jupyter-widgets/base",
          "model_name": "LayoutModel",
          "model_module_version": "1.2.0",
          "state": {
            "_model_module": "@jupyter-widgets/base",
            "_model_module_version": "1.2.0",
            "_model_name": "LayoutModel",
            "_view_count": null,
            "_view_module": "@jupyter-widgets/base",
            "_view_module_version": "1.2.0",
            "_view_name": "LayoutView",
            "align_content": null,
            "align_items": null,
            "align_self": null,
            "border": null,
            "bottom": null,
            "display": null,
            "flex": null,
            "flex_flow": null,
            "grid_area": null,
            "grid_auto_columns": null,
            "grid_auto_flow": null,
            "grid_auto_rows": null,
            "grid_column": null,
            "grid_gap": null,
            "grid_row": null,
            "grid_template_areas": null,
            "grid_template_columns": null,
            "grid_template_rows": null,
            "height": null,
            "justify_content": null,
            "justify_items": null,
            "left": null,
            "margin": null,
            "max_height": null,
            "max_width": null,
            "min_height": null,
            "min_width": null,
            "object_fit": null,
            "object_position": null,
            "order": null,
            "overflow": null,
            "overflow_x": null,
            "overflow_y": null,
            "padding": null,
            "right": null,
            "top": null,
            "visibility": null,
            "width": null
          }
        },
        "bf27afd063c24bd99194efb1aa010847": {
          "model_module": "@jupyter-widgets/controls",
          "model_name": "DescriptionStyleModel",
          "model_module_version": "1.5.0",
          "state": {
            "_model_module": "@jupyter-widgets/controls",
            "_model_module_version": "1.5.0",
            "_model_name": "DescriptionStyleModel",
            "_view_count": null,
            "_view_module": "@jupyter-widgets/base",
            "_view_module_version": "1.2.0",
            "_view_name": "StyleView",
            "description_width": ""
          }
        },
        "68e623247c1445f4b09e73da50268722": {
          "model_module": "@jupyter-widgets/controls",
          "model_name": "HBoxModel",
          "model_module_version": "1.5.0",
          "state": {
            "_dom_classes": [],
            "_model_module": "@jupyter-widgets/controls",
            "_model_module_version": "1.5.0",
            "_model_name": "HBoxModel",
            "_view_count": null,
            "_view_module": "@jupyter-widgets/controls",
            "_view_module_version": "1.5.0",
            "_view_name": "HBoxView",
            "box_style": "",
            "children": [
              "IPY_MODEL_81a47e2830614296ad12ac908da09f38",
              "IPY_MODEL_0c01cb2342834cdb9174d91f648fbcab",
              "IPY_MODEL_462728ceaf3d4b5ebb0e5d27b98fd2f3"
            ],
            "layout": "IPY_MODEL_3da84bb1db8a416b82222bea231241aa"
          }
        },
        "81a47e2830614296ad12ac908da09f38": {
          "model_module": "@jupyter-widgets/controls",
          "model_name": "HTMLModel",
          "model_module_version": "1.5.0",
          "state": {
            "_dom_classes": [],
            "_model_module": "@jupyter-widgets/controls",
            "_model_module_version": "1.5.0",
            "_model_name": "HTMLModel",
            "_view_count": null,
            "_view_module": "@jupyter-widgets/controls",
            "_view_module_version": "1.5.0",
            "_view_name": "HTMLView",
            "description": "",
            "description_tooltip": null,
            "layout": "IPY_MODEL_1963a2c1d4034122bcd0d9dba1f4970d",
            "placeholder": "​",
            "style": "IPY_MODEL_a5431adc747148368f01faa2c4bf6a98",
            "value": "Loading checkpoint shards: 100%"
          }
        },
        "0c01cb2342834cdb9174d91f648fbcab": {
          "model_module": "@jupyter-widgets/controls",
          "model_name": "FloatProgressModel",
          "model_module_version": "1.5.0",
          "state": {
            "_dom_classes": [],
            "_model_module": "@jupyter-widgets/controls",
            "_model_module_version": "1.5.0",
            "_model_name": "FloatProgressModel",
            "_view_count": null,
            "_view_module": "@jupyter-widgets/controls",
            "_view_module_version": "1.5.0",
            "_view_name": "ProgressView",
            "bar_style": "success",
            "description": "",
            "description_tooltip": null,
            "layout": "IPY_MODEL_0f8ecba08ccd4af48c483b8dc505f177",
            "max": 2,
            "min": 0,
            "orientation": "horizontal",
            "style": "IPY_MODEL_457ef1d508f4414cafdcc26c82cf371d",
            "value": 2
          }
        },
        "462728ceaf3d4b5ebb0e5d27b98fd2f3": {
          "model_module": "@jupyter-widgets/controls",
          "model_name": "HTMLModel",
          "model_module_version": "1.5.0",
          "state": {
            "_dom_classes": [],
            "_model_module": "@jupyter-widgets/controls",
            "_model_module_version": "1.5.0",
            "_model_name": "HTMLModel",
            "_view_count": null,
            "_view_module": "@jupyter-widgets/controls",
            "_view_module_version": "1.5.0",
            "_view_name": "HTMLView",
            "description": "",
            "description_tooltip": null,
            "layout": "IPY_MODEL_6eae853829b349cea337015438b80d31",
            "placeholder": "​",
            "style": "IPY_MODEL_74df391a2eb74f03b168059708cbb8e6",
            "value": " 2/2 [00:38&lt;00:00, 18.29s/it]"
          }
        },
        "3da84bb1db8a416b82222bea231241aa": {
          "model_module": "@jupyter-widgets/base",
          "model_name": "LayoutModel",
          "model_module_version": "1.2.0",
          "state": {
            "_model_module": "@jupyter-widgets/base",
            "_model_module_version": "1.2.0",
            "_model_name": "LayoutModel",
            "_view_count": null,
            "_view_module": "@jupyter-widgets/base",
            "_view_module_version": "1.2.0",
            "_view_name": "LayoutView",
            "align_content": null,
            "align_items": null,
            "align_self": null,
            "border": null,
            "bottom": null,
            "display": null,
            "flex": null,
            "flex_flow": null,
            "grid_area": null,
            "grid_auto_columns": null,
            "grid_auto_flow": null,
            "grid_auto_rows": null,
            "grid_column": null,
            "grid_gap": null,
            "grid_row": null,
            "grid_template_areas": null,
            "grid_template_columns": null,
            "grid_template_rows": null,
            "height": null,
            "justify_content": null,
            "justify_items": null,
            "left": null,
            "margin": null,
            "max_height": null,
            "max_width": null,
            "min_height": null,
            "min_width": null,
            "object_fit": null,
            "object_position": null,
            "order": null,
            "overflow": null,
            "overflow_x": null,
            "overflow_y": null,
            "padding": null,
            "right": null,
            "top": null,
            "visibility": null,
            "width": null
          }
        },
        "1963a2c1d4034122bcd0d9dba1f4970d": {
          "model_module": "@jupyter-widgets/base",
          "model_name": "LayoutModel",
          "model_module_version": "1.2.0",
          "state": {
            "_model_module": "@jupyter-widgets/base",
            "_model_module_version": "1.2.0",
            "_model_name": "LayoutModel",
            "_view_count": null,
            "_view_module": "@jupyter-widgets/base",
            "_view_module_version": "1.2.0",
            "_view_name": "LayoutView",
            "align_content": null,
            "align_items": null,
            "align_self": null,
            "border": null,
            "bottom": null,
            "display": null,
            "flex": null,
            "flex_flow": null,
            "grid_area": null,
            "grid_auto_columns": null,
            "grid_auto_flow": null,
            "grid_auto_rows": null,
            "grid_column": null,
            "grid_gap": null,
            "grid_row": null,
            "grid_template_areas": null,
            "grid_template_columns": null,
            "grid_template_rows": null,
            "height": null,
            "justify_content": null,
            "justify_items": null,
            "left": null,
            "margin": null,
            "max_height": null,
            "max_width": null,
            "min_height": null,
            "min_width": null,
            "object_fit": null,
            "object_position": null,
            "order": null,
            "overflow": null,
            "overflow_x": null,
            "overflow_y": null,
            "padding": null,
            "right": null,
            "top": null,
            "visibility": null,
            "width": null
          }
        },
        "a5431adc747148368f01faa2c4bf6a98": {
          "model_module": "@jupyter-widgets/controls",
          "model_name": "DescriptionStyleModel",
          "model_module_version": "1.5.0",
          "state": {
            "_model_module": "@jupyter-widgets/controls",
            "_model_module_version": "1.5.0",
            "_model_name": "DescriptionStyleModel",
            "_view_count": null,
            "_view_module": "@jupyter-widgets/base",
            "_view_module_version": "1.2.0",
            "_view_name": "StyleView",
            "description_width": ""
          }
        },
        "0f8ecba08ccd4af48c483b8dc505f177": {
          "model_module": "@jupyter-widgets/base",
          "model_name": "LayoutModel",
          "model_module_version": "1.2.0",
          "state": {
            "_model_module": "@jupyter-widgets/base",
            "_model_module_version": "1.2.0",
            "_model_name": "LayoutModel",
            "_view_count": null,
            "_view_module": "@jupyter-widgets/base",
            "_view_module_version": "1.2.0",
            "_view_name": "LayoutView",
            "align_content": null,
            "align_items": null,
            "align_self": null,
            "border": null,
            "bottom": null,
            "display": null,
            "flex": null,
            "flex_flow": null,
            "grid_area": null,
            "grid_auto_columns": null,
            "grid_auto_flow": null,
            "grid_auto_rows": null,
            "grid_column": null,
            "grid_gap": null,
            "grid_row": null,
            "grid_template_areas": null,
            "grid_template_columns": null,
            "grid_template_rows": null,
            "height": null,
            "justify_content": null,
            "justify_items": null,
            "left": null,
            "margin": null,
            "max_height": null,
            "max_width": null,
            "min_height": null,
            "min_width": null,
            "object_fit": null,
            "object_position": null,
            "order": null,
            "overflow": null,
            "overflow_x": null,
            "overflow_y": null,
            "padding": null,
            "right": null,
            "top": null,
            "visibility": null,
            "width": null
          }
        },
        "457ef1d508f4414cafdcc26c82cf371d": {
          "model_module": "@jupyter-widgets/controls",
          "model_name": "ProgressStyleModel",
          "model_module_version": "1.5.0",
          "state": {
            "_model_module": "@jupyter-widgets/controls",
            "_model_module_version": "1.5.0",
            "_model_name": "ProgressStyleModel",
            "_view_count": null,
            "_view_module": "@jupyter-widgets/base",
            "_view_module_version": "1.2.0",
            "_view_name": "StyleView",
            "bar_color": null,
            "description_width": ""
          }
        },
        "6eae853829b349cea337015438b80d31": {
          "model_module": "@jupyter-widgets/base",
          "model_name": "LayoutModel",
          "model_module_version": "1.2.0",
          "state": {
            "_model_module": "@jupyter-widgets/base",
            "_model_module_version": "1.2.0",
            "_model_name": "LayoutModel",
            "_view_count": null,
            "_view_module": "@jupyter-widgets/base",
            "_view_module_version": "1.2.0",
            "_view_name": "LayoutView",
            "align_content": null,
            "align_items": null,
            "align_self": null,
            "border": null,
            "bottom": null,
            "display": null,
            "flex": null,
            "flex_flow": null,
            "grid_area": null,
            "grid_auto_columns": null,
            "grid_auto_flow": null,
            "grid_auto_rows": null,
            "grid_column": null,
            "grid_gap": null,
            "grid_row": null,
            "grid_template_areas": null,
            "grid_template_columns": null,
            "grid_template_rows": null,
            "height": null,
            "justify_content": null,
            "justify_items": null,
            "left": null,
            "margin": null,
            "max_height": null,
            "max_width": null,
            "min_height": null,
            "min_width": null,
            "object_fit": null,
            "object_position": null,
            "order": null,
            "overflow": null,
            "overflow_x": null,
            "overflow_y": null,
            "padding": null,
            "right": null,
            "top": null,
            "visibility": null,
            "width": null
          }
        },
        "74df391a2eb74f03b168059708cbb8e6": {
          "model_module": "@jupyter-widgets/controls",
          "model_name": "DescriptionStyleModel",
          "model_module_version": "1.5.0",
          "state": {
            "_model_module": "@jupyter-widgets/controls",
            "_model_module_version": "1.5.0",
            "_model_name": "DescriptionStyleModel",
            "_view_count": null,
            "_view_module": "@jupyter-widgets/base",
            "_view_module_version": "1.2.0",
            "_view_name": "StyleView",
            "description_width": ""
          }
        },
        "3b9533ce07df4803b8ae4ee8f45d812a": {
          "model_module": "@jupyter-widgets/controls",
          "model_name": "HBoxModel",
          "model_module_version": "1.5.0",
          "state": {
            "_dom_classes": [],
            "_model_module": "@jupyter-widgets/controls",
            "_model_module_version": "1.5.0",
            "_model_name": "HBoxModel",
            "_view_count": null,
            "_view_module": "@jupyter-widgets/controls",
            "_view_module_version": "1.5.0",
            "_view_name": "HBoxView",
            "box_style": "",
            "children": [
              "IPY_MODEL_f22f2e25751a4e0b9efb86059aa34d4f",
              "IPY_MODEL_3c87d42f15df4374b28c4067d7d16634",
              "IPY_MODEL_9a8f58cdeaf2450887939199249ae254"
            ],
            "layout": "IPY_MODEL_85853036861a47fa94cb4c41380a8bd0"
          }
        },
        "f22f2e25751a4e0b9efb86059aa34d4f": {
          "model_module": "@jupyter-widgets/controls",
          "model_name": "HTMLModel",
          "model_module_version": "1.5.0",
          "state": {
            "_dom_classes": [],
            "_model_module": "@jupyter-widgets/controls",
            "_model_module_version": "1.5.0",
            "_model_name": "HTMLModel",
            "_view_count": null,
            "_view_module": "@jupyter-widgets/controls",
            "_view_module_version": "1.5.0",
            "_view_name": "HTMLView",
            "description": "",
            "description_tooltip": null,
            "layout": "IPY_MODEL_10471b41f8924a1481352c0d0bf351bf",
            "placeholder": "​",
            "style": "IPY_MODEL_b2448d55d7fc487f92ef71d0d11b64f4",
            "value": "Loading checkpoint shards: 100%"
          }
        },
        "3c87d42f15df4374b28c4067d7d16634": {
          "model_module": "@jupyter-widgets/controls",
          "model_name": "FloatProgressModel",
          "model_module_version": "1.5.0",
          "state": {
            "_dom_classes": [],
            "_model_module": "@jupyter-widgets/controls",
            "_model_module_version": "1.5.0",
            "_model_name": "FloatProgressModel",
            "_view_count": null,
            "_view_module": "@jupyter-widgets/controls",
            "_view_module_version": "1.5.0",
            "_view_name": "ProgressView",
            "bar_style": "success",
            "description": "",
            "description_tooltip": null,
            "layout": "IPY_MODEL_45280bcc886d45f6be04ee1c2e178f20",
            "max": 2,
            "min": 0,
            "orientation": "horizontal",
            "style": "IPY_MODEL_59f8779c04664017842b631dc67cacc2",
            "value": 2
          }
        },
        "9a8f58cdeaf2450887939199249ae254": {
          "model_module": "@jupyter-widgets/controls",
          "model_name": "HTMLModel",
          "model_module_version": "1.5.0",
          "state": {
            "_dom_classes": [],
            "_model_module": "@jupyter-widgets/controls",
            "_model_module_version": "1.5.0",
            "_model_name": "HTMLModel",
            "_view_count": null,
            "_view_module": "@jupyter-widgets/controls",
            "_view_module_version": "1.5.0",
            "_view_name": "HTMLView",
            "description": "",
            "description_tooltip": null,
            "layout": "IPY_MODEL_491acd922e564a8092a3017ff16a2b15",
            "placeholder": "​",
            "style": "IPY_MODEL_0a74c4f849754a78908572384bfe5d5c",
            "value": " 2/2 [00:40&lt;00:00, 19.08s/it]"
          }
        },
        "85853036861a47fa94cb4c41380a8bd0": {
          "model_module": "@jupyter-widgets/base",
          "model_name": "LayoutModel",
          "model_module_version": "1.2.0",
          "state": {
            "_model_module": "@jupyter-widgets/base",
            "_model_module_version": "1.2.0",
            "_model_name": "LayoutModel",
            "_view_count": null,
            "_view_module": "@jupyter-widgets/base",
            "_view_module_version": "1.2.0",
            "_view_name": "LayoutView",
            "align_content": null,
            "align_items": null,
            "align_self": null,
            "border": null,
            "bottom": null,
            "display": null,
            "flex": null,
            "flex_flow": null,
            "grid_area": null,
            "grid_auto_columns": null,
            "grid_auto_flow": null,
            "grid_auto_rows": null,
            "grid_column": null,
            "grid_gap": null,
            "grid_row": null,
            "grid_template_areas": null,
            "grid_template_columns": null,
            "grid_template_rows": null,
            "height": null,
            "justify_content": null,
            "justify_items": null,
            "left": null,
            "margin": null,
            "max_height": null,
            "max_width": null,
            "min_height": null,
            "min_width": null,
            "object_fit": null,
            "object_position": null,
            "order": null,
            "overflow": null,
            "overflow_x": null,
            "overflow_y": null,
            "padding": null,
            "right": null,
            "top": null,
            "visibility": null,
            "width": null
          }
        },
        "10471b41f8924a1481352c0d0bf351bf": {
          "model_module": "@jupyter-widgets/base",
          "model_name": "LayoutModel",
          "model_module_version": "1.2.0",
          "state": {
            "_model_module": "@jupyter-widgets/base",
            "_model_module_version": "1.2.0",
            "_model_name": "LayoutModel",
            "_view_count": null,
            "_view_module": "@jupyter-widgets/base",
            "_view_module_version": "1.2.0",
            "_view_name": "LayoutView",
            "align_content": null,
            "align_items": null,
            "align_self": null,
            "border": null,
            "bottom": null,
            "display": null,
            "flex": null,
            "flex_flow": null,
            "grid_area": null,
            "grid_auto_columns": null,
            "grid_auto_flow": null,
            "grid_auto_rows": null,
            "grid_column": null,
            "grid_gap": null,
            "grid_row": null,
            "grid_template_areas": null,
            "grid_template_columns": null,
            "grid_template_rows": null,
            "height": null,
            "justify_content": null,
            "justify_items": null,
            "left": null,
            "margin": null,
            "max_height": null,
            "max_width": null,
            "min_height": null,
            "min_width": null,
            "object_fit": null,
            "object_position": null,
            "order": null,
            "overflow": null,
            "overflow_x": null,
            "overflow_y": null,
            "padding": null,
            "right": null,
            "top": null,
            "visibility": null,
            "width": null
          }
        },
        "b2448d55d7fc487f92ef71d0d11b64f4": {
          "model_module": "@jupyter-widgets/controls",
          "model_name": "DescriptionStyleModel",
          "model_module_version": "1.5.0",
          "state": {
            "_model_module": "@jupyter-widgets/controls",
            "_model_module_version": "1.5.0",
            "_model_name": "DescriptionStyleModel",
            "_view_count": null,
            "_view_module": "@jupyter-widgets/base",
            "_view_module_version": "1.2.0",
            "_view_name": "StyleView",
            "description_width": ""
          }
        },
        "45280bcc886d45f6be04ee1c2e178f20": {
          "model_module": "@jupyter-widgets/base",
          "model_name": "LayoutModel",
          "model_module_version": "1.2.0",
          "state": {
            "_model_module": "@jupyter-widgets/base",
            "_model_module_version": "1.2.0",
            "_model_name": "LayoutModel",
            "_view_count": null,
            "_view_module": "@jupyter-widgets/base",
            "_view_module_version": "1.2.0",
            "_view_name": "LayoutView",
            "align_content": null,
            "align_items": null,
            "align_self": null,
            "border": null,
            "bottom": null,
            "display": null,
            "flex": null,
            "flex_flow": null,
            "grid_area": null,
            "grid_auto_columns": null,
            "grid_auto_flow": null,
            "grid_auto_rows": null,
            "grid_column": null,
            "grid_gap": null,
            "grid_row": null,
            "grid_template_areas": null,
            "grid_template_columns": null,
            "grid_template_rows": null,
            "height": null,
            "justify_content": null,
            "justify_items": null,
            "left": null,
            "margin": null,
            "max_height": null,
            "max_width": null,
            "min_height": null,
            "min_width": null,
            "object_fit": null,
            "object_position": null,
            "order": null,
            "overflow": null,
            "overflow_x": null,
            "overflow_y": null,
            "padding": null,
            "right": null,
            "top": null,
            "visibility": null,
            "width": null
          }
        },
        "59f8779c04664017842b631dc67cacc2": {
          "model_module": "@jupyter-widgets/controls",
          "model_name": "ProgressStyleModel",
          "model_module_version": "1.5.0",
          "state": {
            "_model_module": "@jupyter-widgets/controls",
            "_model_module_version": "1.5.0",
            "_model_name": "ProgressStyleModel",
            "_view_count": null,
            "_view_module": "@jupyter-widgets/base",
            "_view_module_version": "1.2.0",
            "_view_name": "StyleView",
            "bar_color": null,
            "description_width": ""
          }
        },
        "491acd922e564a8092a3017ff16a2b15": {
          "model_module": "@jupyter-widgets/base",
          "model_name": "LayoutModel",
          "model_module_version": "1.2.0",
          "state": {
            "_model_module": "@jupyter-widgets/base",
            "_model_module_version": "1.2.0",
            "_model_name": "LayoutModel",
            "_view_count": null,
            "_view_module": "@jupyter-widgets/base",
            "_view_module_version": "1.2.0",
            "_view_name": "LayoutView",
            "align_content": null,
            "align_items": null,
            "align_self": null,
            "border": null,
            "bottom": null,
            "display": null,
            "flex": null,
            "flex_flow": null,
            "grid_area": null,
            "grid_auto_columns": null,
            "grid_auto_flow": null,
            "grid_auto_rows": null,
            "grid_column": null,
            "grid_gap": null,
            "grid_row": null,
            "grid_template_areas": null,
            "grid_template_columns": null,
            "grid_template_rows": null,
            "height": null,
            "justify_content": null,
            "justify_items": null,
            "left": null,
            "margin": null,
            "max_height": null,
            "max_width": null,
            "min_height": null,
            "min_width": null,
            "object_fit": null,
            "object_position": null,
            "order": null,
            "overflow": null,
            "overflow_x": null,
            "overflow_y": null,
            "padding": null,
            "right": null,
            "top": null,
            "visibility": null,
            "width": null
          }
        },
        "0a74c4f849754a78908572384bfe5d5c": {
          "model_module": "@jupyter-widgets/controls",
          "model_name": "DescriptionStyleModel",
          "model_module_version": "1.5.0",
          "state": {
            "_model_module": "@jupyter-widgets/controls",
            "_model_module_version": "1.5.0",
            "_model_name": "DescriptionStyleModel",
            "_view_count": null,
            "_view_module": "@jupyter-widgets/base",
            "_view_module_version": "1.2.0",
            "_view_name": "StyleView",
            "description_width": ""
          }
        }
      }
    }
  },
  "cells": [
    {
      "cell_type": "markdown",
      "source": [
        "### Installing and importing required libraries"
      ],
      "metadata": {
        "id": "T3aAyL4HNk6V"
      }
    },
    {
      "cell_type": "code",
      "source": [
        "!pip install fastapi uvicorn pyngrok nest_asyncio requests transformers accelerate -q"
      ],
      "metadata": {
        "id": "gDoTzxtCNwIK"
      },
      "execution_count": 1,
      "outputs": []
    },
    {
      "cell_type": "code",
      "source": [
        "!pip install mlflow -q"
      ],
      "metadata": {
        "id": "Uxu7tlVeSTTK"
      },
      "execution_count": 3,
      "outputs": []
    },
    {
      "cell_type": "code",
      "source": [
        "import os\n",
        "import gc\n",
        "import json\n",
        "import math\n",
        "import mlflow\n",
        "import torch\n",
        "from datetime import datetime\n",
        "from datasets import Dataset\n",
        "from transformers import (\n",
        "    AutoTokenizer,\n",
        "    AutoModelForCausalLM,\n",
        "    TrainingArguments,\n",
        "    Trainer,\n",
        "    DataCollatorForLanguageModeling,\n",
        "    pipeline,\n",
        ")\n",
        "from peft import LoraConfig, get_peft_model\n",
        "from accelerate import Accelerator\n",
        "import matplotlib.pyplot as plt\n",
        "import seaborn as sns"
      ],
      "metadata": {
        "id": "fNGYFOvKSjlw"
      },
      "execution_count": 1,
      "outputs": []
    },
    {
      "cell_type": "markdown",
      "source": [
        "### Environment setup"
      ],
      "metadata": {
        "id": "RBGwzmxQN1A5"
      }
    },
    {
      "cell_type": "code",
      "source": [
        "# ==============================================================\n",
        "# ENVIRONMENT SETUP\n",
        "# ==============================================================\n",
        "os.environ[\"PYTORCH_CUDA_ALLOC_CONF\"] = \"expandable_segments:True\"\n",
        "os.environ[\"MLFLOW_TRACKING_URI\"] = \"https://f96dffc4d84a.ngrok-free.app\" # This is a tunneled url from ngrok\n",
        "os.environ[\"TRANSFORMERS_NO_ADVISORY_WARNINGS\"] = \"true\"\n",
        "accelerator = Accelerator()"
      ],
      "metadata": {
        "id": "n6VldQyESmyY"
      },
      "execution_count": 2,
      "outputs": []
    },
    {
      "cell_type": "code",
      "source": [
        "# ==============================================================\n",
        "# MEMORY UTILS\n",
        "# ==============================================================\n",
        "def clear_memory():\n",
        "    if torch.cuda.is_available():\n",
        "        torch.cuda.empty_cache()\n",
        "        torch.cuda.ipc_collect()\n",
        "    gc.collect()"
      ],
      "metadata": {
        "id": "nOX5Ff-LSoqJ"
      },
      "execution_count": 3,
      "outputs": []
    },
    {
      "cell_type": "markdown",
      "source": [
        "### Importing and processing data"
      ],
      "metadata": {
        "id": "gT0Nvd18OGdw"
      }
    },
    {
      "cell_type": "code",
      "source": [
        "# ==============================================================\n",
        "# LOAD DATASET FROM LOCAL JSON\n",
        "# ==============================================================\n",
        "json_file_path = \"rows.json\"\n",
        "max_samples = 1500\n",
        "\n",
        "print(\"Loading dataset from local JSON file...\")\n",
        "try:\n",
        "    with open(json_file_path, 'r', encoding='utf-8') as f:\n",
        "        json_data = json.load(f)\n",
        "\n",
        "    rows = []\n",
        "    for item in json_data:\n",
        "        if 'row' in item:\n",
        "            row_data = item['row']\n",
        "            rows.append({\n",
        "                'product': row_data.get('product', '').strip(),\n",
        "                'description': row_data.get('description', '').strip(),\n",
        "                'ad': row_data.get('ad', '').strip()\n",
        "            })\n",
        "\n",
        "    print(f\"Loaded {len(rows)} samples from {json_file_path}\")\n",
        "\n",
        "    if len(rows) > max_samples:\n",
        "        print(f\"Limiting dataset from {len(rows)} to {max_samples} samples\")\n",
        "        rows = rows[:max_samples]\n",
        "\n",
        "    raw_dataset = Dataset.from_list(rows)\n",
        "\n",
        "    # ===== VISUALIZATION: RAW DATA =====\n",
        "    print(\"\\n🔎 Raw sample:\", rows[0])\n",
        "    product_lengths = [len(r[\"product\"].split()) for r in rows]\n",
        "    desc_lengths = [len(r[\"description\"].split()) for r in rows]\n",
        "    ad_lengths = [len(r[\"ad\"].split()) for r in rows]\n",
        "\n",
        "    plt.figure(figsize=(12, 4))\n",
        "    plt.subplot(1, 3, 1)\n",
        "    sns.histplot(product_lengths, bins=30, kde=False)\n",
        "    plt.title(\"Product text length (words)\")\n",
        "\n",
        "    plt.subplot(1, 3, 2)\n",
        "    sns.histplot(desc_lengths, bins=30, kde=False)\n",
        "    plt.title(\"Description length (words)\")\n",
        "\n",
        "    plt.subplot(1, 3, 3)\n",
        "    sns.histplot(ad_lengths, bins=30, kde=False)\n",
        "    plt.title(\"Ad text length (words)\")\n",
        "    plt.show()\n",
        "\n",
        "except FileNotFoundError:\n",
        "    print(f\"Error: Could not find {json_file_path} in the current directory\")\n",
        "    raise\n",
        "except json.JSONDecodeError as e:\n",
        "    print(f\"Error: Invalid JSON format in {json_file_path}: {e}\")\n",
        "    raise"
      ],
      "metadata": {
        "colab": {
          "base_uri": "https://localhost:8080/",
          "height": 498
        },
        "id": "-Z60vMjlSq06",
        "outputId": "6fac8f7a-f13d-406c-b758-c9d636846826"
      },
      "execution_count": 4,
      "outputs": [
        {
          "output_type": "stream",
          "name": "stdout",
          "text": [
            "Loading dataset from local JSON file...\n",
            "Loaded 1497 samples from rows.json\n",
            "Limiting dataset from 1497 to 1000 samples\n",
            "\n",
            "🔎 Raw sample: {'product': 'Harem pants', 'description': 'A style of pants with a dropped crotch, loose-fitting legs, and a gathered waistband for a unique, bohemian look.', 'ad': 'Discover Harem Pants! Unique, stylish bohemian vibes with a dropped crotch & loose legs. Comfy meets chic - elevate your wardrobe. Limited stock - shop now!'}\n"
          ]
        },
        {
          "output_type": "display_data",
          "data": {
            "text/plain": [
              "<Figure size 1200x400 with 3 Axes>"
            ],
            "image/png": "[encoded data removed]"
          },
          "metadata": {}
        }
      ]
    },
    {
      "cell_type": "code",
      "source": [
        "# ==============================================================\n",
        "# SETUP TOKENIZER AND MODEL\n",
        "# ==============================================================\n",
        "model_name = \"microsoft/Phi-3-mini-4k-instruct\"\n",
        "print(\"Setting up tokenizer and model...\")\n",
        "clear_memory()\n",
        "\n",
        "tokenizer = AutoTokenizer.from_pretrained(model_name, trust_remote_code=True)\n",
        "if tokenizer.pad_token is None:\n",
        "    tokenizer.pad_token = tokenizer.eos_token\n",
        "\n",
        "model = AutoModelForCausalLM.from_pretrained(\n",
        "    model_name,\n",
        "    torch_dtype=torch.float16,  # Use half precision for memory efficiency\n",
        "    trust_remote_code=True,\n",
        "    device_map=\"auto\"  # Automatically handle device placement\n",
        ")\n",
        "\n",
        "# Enable gradient checkpointing for memory efficiency\n",
        "if hasattr(model, \"gradient_checkpointing_enable\"):\n",
        "    model.gradient_checkpointing_enable()"
      ],
      "metadata": {
        "colab": {
          "base_uri": "https://localhost:8080/",
          "height": 243,
          "referenced_widgets": [
            "2d03b69e27ca4d21be8d2b28e820f38a",
            "3c284822624149828346f81d2a058baa",
            "274acee21223418a97628e1f7878e87c",
            "58e67af9378b4cfda5b9f5c2b6a4903f",
            "a88693ce148047e9bc1d508459eaf9ee",
            "8df67b69421f4f3286a83d6e16ef2186",
            "cad135d3c5a24df09d0ff90a60e83072",
            "ec177a1c737647e08a2e533e4c83138d",
            "b0639e0d655e416ca46b3c6284627a43",
            "21f89f99b6a5408d8656f46a110fdb75",
            "a769e4d8457f44f2b0d9d0abc83f62ed"
          ]
        },
        "id": "s76BiUk8Ss6o",
        "outputId": "fd6e4c71-1aaf-4c05-969c-bca306b48b7b"
      },
      "execution_count": 5,
      "outputs": [
        {
          "output_type": "stream",
          "name": "stdout",
          "text": [
            "Setting up tokenizer and model...\n"
          ]
        },
        {
          "output_type": "stream",
          "name": "stderr",
          "text": [
            "/usr/local/lib/python3.12/dist-packages/huggingface_hub/utils/_auth.py:94: UserWarning: \n",
            "The secret `HF_TOKEN` does not exist in your Colab secrets.\n",
            "To authenticate with the Hugging Face Hub, create a token in your settings tab (https://huggingface.co/settings/tokens), set it as secret in your Google Colab and restart your session.\n",
            "You will be able to reuse this secret in all of your notebooks.\n",
            "Please note that authentication is recommended but still optional to access public models or datasets.\n",
            "  warnings.warn(\n",
            "`torch_dtype` is deprecated! Use `dtype` instead!\n",
            "WARNING:transformers_modules.microsoft.Phi-3-mini-4k-instruct.0a67737cc96d2554230f90338b163bc6380a2a85.modeling_phi3:`flash-attention` package not found, consider installing for better performance: No module named 'flash_attn'.\n",
            "WARNING:transformers_modules.microsoft.Phi-3-mini-4k-instruct.0a67737cc96d2554230f90338b163bc6380a2a85.modeling_phi3:Current `flash-attention` does not support `window_size`. Either upgrade or use `attn_implementation='eager'`.\n"
          ]
        },
        {
          "output_type": "display_data",
          "data": {
            "text/plain": [
              "Loading checkpoint shards:   0%|          | 0/2 [00:00<?, ?it/s]"
            ],
            "application/vnd.jupyter.widget-view+json": {
              "version_major": 2,
              "version_minor": 0,
              "model_id": "2d03b69e27ca4d21be8d2b28e820f38a"
            }
          },
          "metadata": {}
        }
      ]
    },
    {
      "cell_type": "code",
      "source": [
        "# ==============================================================\n",
        "# SETUP LoRA\n",
        "# ==============================================================\n",
        "peft_config = LoraConfig(\n",
        "    r=16,\n",
        "    lora_alpha=32,\n",
        "    target_modules=[\"q_proj\", \"k_proj\", \"v_proj\", \"o_proj\", \"gate_proj\", \"up_proj\", \"down_proj\"],  # Phi-3 specific modules\n",
        "    lora_dropout=0.1,\n",
        "    bias=\"none\",\n",
        "    task_type=\"CAUSAL_LM\",\n",
        ")\n",
        "\n",
        "peft_model = get_peft_model(model, peft_config)\n",
        "peft_model.print_trainable_parameters()"
      ],
      "metadata": {
        "colab": {
          "base_uri": "https://localhost:8080/"
        },
        "id": "RlEObTYCSun8",
        "outputId": "27cff856-a4df-4edf-98d1-280d93b1bdd4"
      },
      "execution_count": 6,
      "outputs": [
        {
          "output_type": "stream",
          "name": "stdout",
          "text": [
            "trainable params: 8,912,896 || all params: 3,829,992,448 || trainable%: 0.2327\n"
          ]
        }
      ]
    },
    {
      "cell_type": "code",
      "source": [
        "# ==============================================================\n",
        "# PREPROCESS DATA\n",
        "# ==============================================================\n",
        "max_length = 512\n",
        "\n",
        "def format_prompt(example):\n",
        "    product = example.get(\"product\", \"\").strip()\n",
        "    description = example.get(\"description\", \"\").strip()\n",
        "    ad_text = example.get(\"ad\", \"\").strip()\n",
        "\n",
        "    if product is None: product = \"\"\n",
        "    if description is None: description = \"\"\n",
        "    if ad_text is None: ad_text = \"\"\n",
        "\n",
        "    prompt = f\"\"\"<|system|>\n",
        "You are an expert marketing copywriter. Create engaging advertisements based on product information.\n",
        "<|end|>\n",
        "<|user|>\n",
        "Product: {product}\n",
        "Description: {description}\n",
        "Create an advertisement for this product.\n",
        "<|end|>\n",
        "<|assistant|>\n",
        "{ad_text}<|end|>\"\"\"\n",
        "\n",
        "    return {\"text\": prompt}\n",
        "\n",
        "# ===== VISUALIZATION: FORMATTED DATA =====\n",
        "formatted_data = raw_dataset.map(format_prompt, remove_columns=raw_dataset.column_names)\n",
        "print(\"\\n🔎 Example formatted prompt:\\n\", formatted_data[0][\"text\"][:500], \"...\")\n",
        "\n",
        "prompt_lengths = [len(d[\"text\"].split()) for d in formatted_data]\n",
        "plt.figure(figsize=(6,4))\n",
        "sns.histplot(prompt_lengths, bins=40, kde=False)\n",
        "plt.title(\"Prompt length (words)\")\n",
        "plt.show()\n",
        "\n",
        "def tokenize_function(examples):\n",
        "    tokenized = tokenizer(\n",
        "        examples[\"text\"],\n",
        "        truncation=True,\n",
        "        padding=\"max_length\",\n",
        "        max_length=max_length,\n",
        "    )\n",
        "    tokenized[\"labels\"] = tokenized[\"input_ids\"].copy()\n",
        "    return tokenized\n",
        "\n",
        "processed_dataset = formatted_data.map(\n",
        "    tokenize_function, batched=True, remove_columns=formatted_data.column_names\n",
        ")"
      ],
      "metadata": {
        "colab": {
          "base_uri": "https://localhost:8080/",
          "height": 683,
          "referenced_widgets": [
            "72a4512d9bf7469fb5dc9b95444fc6b0",
            "37eacdd201e04091a2a337e2a7e6c5ad",
            "1ce1234f409c4cbabaa12ec04c340f24",
            "563b544b1d3340a5a7f865b84c59804c",
            "dee9fd4317a340a3a37794b7f1061e2f",
            "9111ad3f97614edfb4b685633633dc0e",
            "56cdd78b4cf64eaaae345facd8f60dae",
            "c4e81c960deb4aa7937c87e73218c3dc",
            "cd9a44fc61dd45a097a4adf811b5146d",
            "ac77c75bac1b49d88e39207a33bd8716",
            "884c5ae5e59644b5ae0f1567c440cef1",
            "0637172d87a841cd86f52c9d891d67aa",
            "e1eccd482e264beeae0ac8d1e2294333",
            "71b4df6569c9464ebc6f1b6cf9d23015",
            "1a1a59208fc44b009fca6f986421d8e5",
            "a0fa8949309b40e5916e4861f5176531",
            "ba9f3e660e024b9eab8c76ec783da8a8",
            "b8768c183d664ea8a507274ec24d7c81",
            "0b23c7beedd84f6b9c7fd92f0dc1aa9b",
            "46b919723979417dae4b7f3ddd931673",
            "34536cda7bbb41039d578d089f2f083f",
            "bf27afd063c24bd99194efb1aa010847"
          ]
        },
        "id": "4Y5l_57TSw8g",
        "outputId": "2e10b863-b7c0-4a8b-f622-58ba3b529b0b"
      },
      "execution_count": 7,
      "outputs": [
        {
          "output_type": "display_data",
          "data": {
            "text/plain": [
              "Map:   0%|          | 0/1000 [00:00<?, ? examples/s]"
            ],
            "application/vnd.jupyter.widget-view+json": {
              "version_major": 2,
              "version_minor": 0,
              "model_id": "72a4512d9bf7469fb5dc9b95444fc6b0"
            }
          },
          "metadata": {}
        },
        {
          "output_type": "stream",
          "name": "stdout",
          "text": [
            "\n",
            "🔎 Example formatted prompt:\n",
            " <|system|>\n",
            "You are an expert marketing copywriter. Create engaging advertisements based on product information.\n",
            "<|end|>\n",
            "<|user|>\n",
            "Product: Harem pants\n",
            "Description: A style of pants with a dropped crotch, loose-fitting legs, and a gathered waistband for a unique, bohemian look.\n",
            "Create an advertisement for this product.\n",
            "<|end|>\n",
            "<|assistant|>\n",
            "Discover Harem Pants! Unique, stylish bohemian vibes with a dropped crotch & loose legs. Comfy meets chic - elevate your wardrobe. Limited stock - shop now!<|e ...\n"
          ]
        },
        {
          "output_type": "display_data",
          "data": {
            "text/plain": [
              "<Figure size 600x400 with 1 Axes>"
            ],
            "image/png": "[encoded data removed]"
          },
          "metadata": {}
        },
        {
          "output_type": "display_data",
          "data": {
            "text/plain": [
              "Map:   0%|          | 0/1000 [00:00<?, ? examples/s]"
            ],
            "application/vnd.jupyter.widget-view+json": {
              "version_major": 2,
              "version_minor": 0,
              "model_id": "0637172d87a841cd86f52c9d891d67aa"
            }
          },
          "metadata": {}
        }
      ]
    },
    {
      "cell_type": "code",
      "source": [
        "from collections import Counter\n",
        "\n",
        "\n",
        "# ===== VISUALIZATION: TOKENIZED DATA =====\n",
        "print(\"\\n🔎 Tokenized sample (first 30 tokens):\")\n",
        "print(processed_dataset[0][\"input_ids\"][:30])\n",
        "\n",
        "# Histogram of sequence lengths before padding\n",
        "seq_lengths = [sum(1 for t in ex[\"input_ids\"] if t != tokenizer.pad_token_id)\n",
        "               for ex in processed_dataset]\n",
        "plt.figure(figsize=(6,4))\n",
        "sns.histplot(seq_lengths, bins=40, kde=False)\n",
        "plt.title(\"Sequence lengths (non-padding tokens)\")\n",
        "plt.show()\n",
        "\n",
        "# Token frequency distribution\n",
        "all_tokens = []\n",
        "all_tokens = []\n",
        "for ex in processed_dataset.select(range(200)):  # returns Dataset subset\n",
        "    all_tokens.extend([t for t in ex[\"input_ids\"] if t != tokenizer.pad_token_id])\n",
        "counter = Counter(all_tokens)\n",
        "most_common = counter.most_common(20)\n",
        "\n",
        "tokens, counts = zip(*most_common)\n",
        "plt.figure(figsize=(10,5))\n",
        "sns.barplot(x=[tokenizer.decode([t]) for t in tokens], y=counts)\n",
        "plt.title(\"Most common tokens (sample of 200 rows)\")\n",
        "plt.xticks(rotation=45)\n",
        "plt.show()\n",
        "\n",
        "# Sanity check\n",
        "sample = processed_dataset[0]\n",
        "decoded = tokenizer.decode(sample['input_ids'], skip_special_tokens=True)\n",
        "print(f\"\\n🔎 Decoded back sample:\\n{decoded[:300]}...\")"
      ],
      "metadata": {
        "colab": {
          "base_uri": "https://localhost:8080/",
          "height": 1000
        },
        "id": "ULvW2KXhPjns",
        "outputId": "15639788-70ea-412a-dc7e-f7be3cb54b64"
      },
      "execution_count": 8,
      "outputs": [
        {
          "output_type": "stream",
          "name": "stdout",
          "text": [
            "\n",
            "🔎 Tokenized sample (first 30 tokens):\n",
            "[32000, 32000, 32000, 32000, 32000, 32000, 32000, 32000, 32000, 32000, 32000, 32000, 32000, 32000, 32000, 32000, 32000, 32000, 32000, 32000, 32000, 32000, 32000, 32000, 32000, 32000, 32000, 32000, 32000, 32000]\n"
          ]
        },
        {
          "output_type": "display_data",
          "data": {
            "text/plain": [
              "<Figure size 600x400 with 1 Axes>"
            ],
            "image/png": "[encoded data removed]"
          },
          "metadata": {}
        },
        {
          "output_type": "display_data",
          "data": {
            "text/plain": [
              "<Figure size 1000x500 with 1 Axes>"
            ],
            "image/png": "[encoded data removed]"
          },
          "metadata": {}
        },
        {
          "output_type": "stream",
          "name": "stdout",
          "text": [
            "\n",
            "🔎 Decoded back sample:\n",
            "You are an expert marketing copywriter. Create engaging advertisements based on product information.\n",
            " Product: Harem pants\n",
            "Description: A style of pants with a dropped crotch, loose-fitting legs, and a gathered waistband for a unique, bohemian look.\n",
            "Create an advertisement for this product.\n",
            " Discove...\n"
          ]
        }
      ]
    },
    {
      "cell_type": "markdown",
      "source": [
        "### Training"
      ],
      "metadata": {
        "id": "veEIuUtaeZMy"
      }
    },
    {
      "cell_type": "code",
      "source": [
        "# ==============================================================\n",
        "# TRAINING ARGS\n",
        "# ==============================================================\n",
        "training_args = TrainingArguments(\n",
        "    output_dir=\"./phi3-product-ads\",\n",
        "    num_train_epochs=3,\n",
        "    per_device_train_batch_size=2,\n",
        "    gradient_accumulation_steps=8,\n",
        "    warmup_steps=100,\n",
        "    learning_rate=2e-4,\n",
        "    logging_steps=10,\n",
        "    logging_first_step=True,       # log first step\n",
        "    eval_strategy=\"no\",\n",
        "    save_strategy=\"steps\",\n",
        "    save_steps=200,\n",
        "    save_total_limit=2,\n",
        "    gradient_checkpointing=True,\n",
        "    remove_unused_columns=False,\n",
        "    report_to=[\"mlflow\"],          # MLflow logging enabled\n",
        "    fp16=True,\n",
        "    dataloader_pin_memory=False,\n",
        ")\n",
        "\n",
        "\n",
        "data_collator = DataCollatorForLanguageModeling(\n",
        "    tokenizer=tokenizer,\n",
        "    mlm=False,\n",
        ")"
      ],
      "metadata": {
        "id": "T_L-qbfNSyhj"
      },
      "execution_count": 9,
      "outputs": []
    },
    {
      "cell_type": "code",
      "source": [
        "# ==============================================================\n",
        "# TRAINING\n",
        "# ==============================================================\n",
        "experiment_name = \"phi3-ad-generation\"\n",
        "mlflow.set_experiment(experiment_name)\n",
        "\n",
        "with mlflow.start_run() as run:\n",
        "    # Log parameters\n",
        "    mlflow.log_params({\n",
        "        \"model_name\": model_name,\n",
        "        \"dataset_size\": len(processed_dataset),\n",
        "        \"lora_r\": 16,\n",
        "        \"lora_alpha\": 32,\n",
        "        \"learning_rate\": 2e-4,\n",
        "        \"num_epochs\": 3,\n",
        "        \"batch_size\": 2,\n",
        "        \"gradient_accumulation_steps\": 8,\n",
        "        \"max_length\": 512,\n",
        "        \"data_source\": \"local_json\",\n",
        "    })\n",
        "\n",
        "    trainer = Trainer(\n",
        "        model=peft_model,\n",
        "        args=training_args,\n",
        "        train_dataset=processed_dataset,\n",
        "        tokenizer=tokenizer,\n",
        "        data_collator=data_collator,\n",
        "    )\n",
        "    print(\"Starting training with MLflow tracking...\")\n",
        "    trainer.train()\n",
        "\n",
        "    # ==========================================================\n",
        "    # Save only LoRA adapters (small size)\n",
        "    # ==========================================================\n",
        "    lora_path = os.path.join(\".\", \"phi3-product-ads-lora\")\n",
        "    peft_model.save_pretrained(lora_path)\n",
        "    tokenizer.save_pretrained(lora_path)\n",
        "\n",
        "    # Log only adapter weights + tokenizer\n",
        "    mlflow.log_artifacts(lora_path, artifact_path=\"lora_adapter\")\n",
        "\n",
        "    print(\"✅ Training complete. LoRA adapter and tokenizer logged to MLflow.\")\n"
      ],
      "metadata": {
        "colab": {
          "base_uri": "https://localhost:8080/",
          "height": 847
        },
        "id": "XkzWY8oUcGhR",
        "outputId": "1ee7f265-4c0e-44e1-d223-77a3604c6a76"
      },
      "execution_count": 18,
      "outputs": [
        {
          "output_type": "stream",
          "name": "stderr",
          "text": [
            "/tmp/ipython-input-3501709179.py:22: FutureWarning: `tokenizer` is deprecated and will be removed in version 5.0.0 for `Trainer.__init__`. Use `processing_class` instead.\n",
            "  trainer = Trainer(\n",
            "WARNING:transformers_modules.microsoft.Phi-3-mini-4k-instruct.0a67737cc96d2554230f90338b163bc6380a2a85.modeling_phi3:`use_cache=True` is incompatible with gradient checkpointing. Setting `use_cache=False`...\n"
          ]
        },
        {
          "output_type": "stream",
          "name": "stdout",
          "text": [
            "Starting training with MLflow tracking...\n"
          ]
        },
        {
          "output_type": "stream",
          "name": "stderr",
          "text": [
            "WARNING:transformers_modules.microsoft.Phi-3-mini-4k-instruct.0a67737cc96d2554230f90338b163bc6380a2a85.modeling_phi3:You are not running the flash-attention implementation, expect numerical differences.\n"
          ]
        },
        {
          "output_type": "display_data",
          "data": {
            "text/plain": [
              "<IPython.core.display.HTML object>"
            ],
            "text/html": [
              "\n",
              "    <div>\n",
              "      \n",
              "      <progress value='189' max='189' style='width:300px; height:20px; vertical-align: middle;'></progress>\n",
              "      [189/189 38:59, Epoch 3/3]\n",
              "    </div>\n",
              "    <table border=\"1\" class=\"dataframe\">\n",
              "  <thead>\n",
              " <tr style=\"text-align: left;\">\n",
              "      <th>Step</th>\n",
              "      <th>Training Loss</th>\n",
              "    </tr>\n",
              "  </thead>\n",
              "  <tbody>\n",
              "    <tr>\n",
              "      <td>1</td>\n",
              "      <td>2.238900</td>\n",
              "    </tr>\n",
              "    <tr>\n",
              "      <td>10</td>\n",
              "      <td>2.180800</td>\n",
              "    </tr>\n",
              "    <tr>\n",
              "      <td>20</td>\n",
              "      <td>1.979800</td>\n",
              "    </tr>\n",
              "    <tr>\n",
              "      <td>30</td>\n",
              "      <td>1.658800</td>\n",
              "    </tr>\n",
              "    <tr>\n",
              "      <td>40</td>\n",
              "      <td>1.096800</td>\n",
              "    </tr>\n",
              "    <tr>\n",
              "      <td>50</td>\n",
              "      <td>0.754200</td>\n",
              "    </tr>\n",
              "    <tr>\n",
              "      <td>60</td>\n",
              "      <td>0.641500</td>\n",
              "    </tr>\n",
              "    <tr>\n",
              "      <td>70</td>\n",
              "      <td>0.616700</td>\n",
              "    </tr>\n",
              "    <tr>\n",
              "      <td>80</td>\n",
              "      <td>0.596300</td>\n",
              "    </tr>\n",
              "    <tr>\n",
              "      <td>90</td>\n",
              "      <td>0.545500</td>\n",
              "    </tr>\n",
              "    <tr>\n",
              "      <td>100</td>\n",
              "      <td>0.492300</td>\n",
              "    </tr>\n",
              "    <tr>\n",
              "      <td>110</td>\n",
              "      <td>0.442200</td>\n",
              "    </tr>\n",
              "    <tr>\n",
              "      <td>120</td>\n",
              "      <td>0.449500</td>\n",
              "    </tr>\n",
              "    <tr>\n",
              "      <td>130</td>\n",
              "      <td>0.387100</td>\n",
              "    </tr>\n",
              "    <tr>\n",
              "      <td>140</td>\n",
              "      <td>0.387200</td>\n",
              "    </tr>\n",
              "    <tr>\n",
              "      <td>150</td>\n",
              "      <td>0.381900</td>\n",
              "    </tr>\n",
              "    <tr>\n",
              "      <td>160</td>\n",
              "      <td>0.379500</td>\n",
              "    </tr>\n",
              "    <tr>\n",
              "      <td>170</td>\n",
              "      <td>0.394400</td>\n",
              "    </tr>\n",
              "    <tr>\n",
              "      <td>180</td>\n",
              "      <td>0.326200</td>\n",
              "    </tr>\n",
              "  </tbody>\n",
              "</table><p>"
            ]
          },
          "metadata": {}
        },
        {
          "output_type": "stream",
          "name": "stderr",
          "text": [
            "2025/09/07 13:21:47 ERROR mlflow.utils.async_logging.async_logging_queue: Run Id f6905ab9ab5c46d8a3f38ad317441220: Failed to log run data: Exception: API request to https://f96dffc4d84a.ngrok-free.app/api/2.0/mlflow/runs/log-batch failed with exception HTTPSConnectionPool(host='f96dffc4d84a.ngrok-free.app', port=443): Max retries exceeded with url: /api/2.0/mlflow/runs/log-batch (Caused by ResponseError('too many 500 error responses'))\n"
          ]
        },
        {
          "output_type": "stream",
          "name": "stdout",
          "text": [
            "✅ Training complete. LoRA adapter and tokenizer logged to MLflow.\n",
            "🏃 View run bittersweet-sow-565 at: https://f96dffc4d84a.ngrok-free.app/#/experiments/633517257330426464/runs/f6905ab9ab5c46d8a3f38ad317441220\n",
            "🧪 View experiment at: https://f96dffc4d84a.ngrok-free.app/#/experiments/633517257330426464\n"
          ]
        }
      ]
    },
    {
      "cell_type": "markdown",
      "source": [
        "### Test"
      ],
      "metadata": {
        "id": "kdRxiG08oxKv"
      }
    },
    {
      "cell_type": "code",
      "source": [
        "from peft import PeftModel\n",
        "\n",
        "# =============================================================================\n",
        "# TEXT AD GENERATION\n",
        "# =============================================================================\n",
        "\n",
        "class TextAdGenerator:\n",
        "    \"\"\"Generate text advertisements using the fine-tuned model\"\"\"\n",
        "\n",
        "    def __init__(self, model_path, tokenizer_path=None):\n",
        "        self.model_path = model_path\n",
        "        self.tokenizer_path = tokenizer_path or model_path\n",
        "        self.model = None\n",
        "        self.tokenizer = None\n",
        "\n",
        "    def load_model(self):\n",
        "        \"\"\"Load the fine-tuned LoRA adapter with the base model\"\"\"\n",
        "        print(\"Loading fine-tuned LoRA model...\")\n",
        "        clear_memory()\n",
        "\n",
        "        # Load tokenizer from base model\n",
        "        self.tokenizer = AutoTokenizer.from_pretrained(\n",
        "            \"microsoft/Phi-3-mini-4k-instruct\",\n",
        "            trust_remote_code=True\n",
        "        )\n",
        "\n",
        "        # Load base model\n",
        "        base_model = AutoModelForCausalLM.from_pretrained(\n",
        "            \"microsoft/Phi-3-mini-4k-instruct\",\n",
        "            torch_dtype=torch.bfloat16,\n",
        "            device_map=\"auto\",\n",
        "            trust_remote_code=True,\n",
        "            low_cpu_mem_usage=True,\n",
        "            max_memory={0: \"8GiB\"},\n",
        "        )\n",
        "\n",
        "        # Apply LoRA adapter\n",
        "        self.model = PeftModel.from_pretrained(base_model, self.model_path)\n",
        "\n",
        "        print(\"✅ LoRA fine-tuned model loaded successfully!\")\n",
        "\n",
        "    def generate_ad(self, product_name, product_description, max_length=512, temperature=0.7):\n",
        "        \"\"\"Generate advertisement text for a product\"\"\"\n",
        "        # Format the prompt (shorter format for memory efficiency)\n",
        "        prompt = (\n",
        "            f\"Product: {product_name}\\n\"\n",
        "            f\"Description (summary): {product_description[:300]}\\n\"\n",
        "            f\"Task: Write a compelling advertisement under 100 words. \"\n",
        "            f\"Focus on benefits, keep it clear and engaging.\\nAd:\"\n",
        "        )\n",
        "\n",
        "        # Tokenize\n",
        "        inputs = self.tokenizer(prompt, return_tensors=\"pt\", truncation=True, max_length=512)\n",
        "        inputs = {k: v.to(self.model.device) for k, v in inputs.items()}\n",
        "\n",
        "        # Generate with memory-conscious settings\n",
        "        with torch.no_grad():\n",
        "            outputs = self.model.generate(\n",
        "                **inputs,\n",
        "                max_new_tokens=max_length,\n",
        "                temperature=temperature,\n",
        "                do_sample=True,\n",
        "                top_p=0.9,\n",
        "                top_k=50,\n",
        "                pad_token_id=self.tokenizer.eos_token_id,\n",
        "                repetition_penalty=1.1,\n",
        "                use_cache=False,  # Disable cache to avoid seen_tokens issue\n",
        "                past_key_values=None  # Explicitly set to None\n",
        "            )\n",
        "\n",
        "        # Decode and clean up\n",
        "        full_response = self.tokenizer.decode(outputs[0], skip_special_tokens=True)\n",
        "        ad_text = full_response.split(\"Ad:\")[-1].strip()\n",
        "\n",
        "        return ad_text"
      ],
      "metadata": {
        "id": "_hH5Wlp4mTHu"
      },
      "execution_count": 4,
      "outputs": []
    },
    {
      "cell_type": "code",
      "source": [
        "# =============================================================================\n",
        "# SECTION 8: MEMORY-OPTIMIZED PIPELINE\n",
        "# =============================================================================\n",
        "\n",
        "class ProductAdPipeline:\n",
        "    \"\"\"Complete pipeline for product ad generation with memory management\"\"\"\n",
        "\n",
        "    def __init__(self, text_model_path):\n",
        "        self.text_model_path = text_model_path\n",
        "        self.text_generator = None\n",
        "\n",
        "    def generate_complete_ad(self, product_name, product_description):\n",
        "        \"\"\"Generate text advertisement with memory management\"\"\"\n",
        "        print(f\"Generating complete ad for: {product_name}\")\n",
        "\n",
        "        # Step 1: Generate text ad\n",
        "        if self.text_generator is None:\n",
        "            self.text_generator = TextAdGenerator(self.text_model_path)\n",
        "            self.text_generator.load_model()\n",
        "\n",
        "        ad_text = self.text_generator.generate_ad(product_name, product_description)\n",
        "\n",
        "\n",
        "        return {\n",
        "            \"product_name\": product_name,\n",
        "            \"product_description\": product_description,\n",
        "            \"ad_text\": ad_text,\n",
        "        }"
      ],
      "metadata": {
        "id": "aPzBvTRamdgO"
      },
      "execution_count": 5,
      "outputs": []
    },
    {
      "cell_type": "code",
      "source": [
        "import torch\n",
        "\n",
        "pipeline = ProductAdPipeline(\"./phi3-product-ads-lora\")\n",
        "\n",
        "# Example generation\n",
        "test_product = \"Wireless Bluetooth Headphones\"\n",
        "test_description = \"High-quality wireless headphones with noise cancellation and long battery life.\"\n",
        "\n",
        "result = pipeline.generate_complete_ad(\n",
        "    test_product,\n",
        "    test_description,\n",
        "\n",
        ")\n",
        "\n",
        "print(f\"Generated ad text: {result['ad_text']}\")"
      ],
      "metadata": {
        "colab": {
          "base_uri": "https://localhost:8080/",
          "height": 312,
          "referenced_widgets": [
            "68e623247c1445f4b09e73da50268722",
            "81a47e2830614296ad12ac908da09f38",
            "0c01cb2342834cdb9174d91f648fbcab",
            "462728ceaf3d4b5ebb0e5d27b98fd2f3",
            "3da84bb1db8a416b82222bea231241aa",
            "1963a2c1d4034122bcd0d9dba1f4970d",
            "a5431adc747148368f01faa2c4bf6a98",
            "0f8ecba08ccd4af48c483b8dc505f177",
            "457ef1d508f4414cafdcc26c82cf371d",
            "6eae853829b349cea337015438b80d31",
            "74df391a2eb74f03b168059708cbb8e6"
          ]
        },
        "id": "5u57lqCVmh3u",
        "outputId": "8a6c55b9-5947-4556-e602-ef8336fcbca8"
      },
      "execution_count": 6,
      "outputs": [
        {
          "output_type": "stream",
          "name": "stdout",
          "text": [
            "Generating complete ad for: Wireless Bluetooth Headphones\n",
            "Loading fine-tuned LoRA model...\n"
          ]
        },
        {
          "output_type": "stream",
          "name": "stderr",
          "text": [
            "/usr/local/lib/python3.12/dist-packages/huggingface_hub/utils/_auth.py:94: UserWarning: \n",
            "The secret `HF_TOKEN` does not exist in your Colab secrets.\n",
            "To authenticate with the Hugging Face Hub, create a token in your settings tab (https://huggingface.co/settings/tokens), set it as secret in your Google Colab and restart your session.\n",
            "You will be able to reuse this secret in all of your notebooks.\n",
            "Please note that authentication is recommended but still optional to access public models or datasets.\n",
            "  warnings.warn(\n",
            "`torch_dtype` is deprecated! Use `dtype` instead!\n",
            "WARNING:transformers_modules.microsoft.Phi-3-mini-4k-instruct.0a67737cc96d2554230f90338b163bc6380a2a85.modeling_phi3:`flash-attention` package not found, consider installing for better performance: No module named 'flash_attn'.\n",
            "WARNING:transformers_modules.microsoft.Phi-3-mini-4k-instruct.0a67737cc96d2554230f90338b163bc6380a2a85.modeling_phi3:Current `flash-attention` does not support `window_size`. Either upgrade or use `attn_implementation='eager'`.\n"
          ]
        },
        {
          "output_type": "display_data",
          "data": {
            "text/plain": [
              "Loading checkpoint shards:   0%|          | 0/2 [00:00<?, ?it/s]"
            ],
            "application/vnd.jupyter.widget-view+json": {
              "version_major": 2,
              "version_minor": 0,
              "model_id": "68e623247c1445f4b09e73da50268722"
            }
          },
          "metadata": {}
        },
        {
          "output_type": "stream",
          "name": "stdout",
          "text": [
            "✅ LoRA fine-tuned model loaded successfully!\n"
          ]
        },
        {
          "output_type": "stream",
          "name": "stderr",
          "text": [
            "WARNING:transformers_modules.microsoft.Phi-3-mini-4k-instruct.0a67737cc96d2554230f90338b163bc6380a2a85.modeling_phi3:You are not running the flash-attention implementation, expect numerical differences.\n"
          ]
        },
        {
          "output_type": "stream",
          "name": "stdout",
          "text": [
            "Generated ad text: Experience comfort like never before! Our Noise Cancelling Earbuds deliver crystal-clear sound & silence the world around you – perfect for work or play.\n"
          ]
        }
      ]
    },
    {
      "cell_type": "code",
      "source": [
        "# To export the lora weights\n",
        "!zip -r phi3-product-ads-lora.zip phi3-product-ads-lora"
      ],
      "metadata": {
        "colab": {
          "base_uri": "https://localhost:8080/"
        },
        "id": "DpaiNbqKpeiX",
        "outputId": "b2fc5f6e-d3c1-4477-caf9-608a5194c3e6"
      },
      "execution_count": 16,
      "outputs": [
        {
          "output_type": "stream",
          "name": "stdout",
          "text": [
            "  adding: phi3-product-ads-lora/ (stored 0%)\n",
            "  adding: phi3-product-ads-lora/tokenizer.json (deflated 85%)\n",
            "  adding: phi3-product-ads-lora/adapter_config.json (deflated 57%)\n",
            "  adding: phi3-product-ads-lora/chat_template.jinja (deflated 60%)\n",
            "  adding: phi3-product-ads-lora/README.md (deflated 65%)\n",
            "  adding: phi3-product-ads-lora/special_tokens_map.json (deflated 79%)\n",
            "  adding: phi3-product-ads-lora/tokenizer_config.json (deflated 86%)\n",
            "  adding: phi3-product-ads-lora/added_tokens.json (deflated 62%)\n",
            "  adding: phi3-product-ads-lora/tokenizer.model (deflated 55%)\n",
            "  adding: phi3-product-ads-lora/adapter_model.safetensors (deflated 7%)\n"
          ]
        }
      ]
    },
    {
      "cell_type": "code",
      "source": [
        "# To move the zipped wheights to the google drive, mount the drive first\n",
        "from google.colab import drive\n",
        "drive.mount('/content/drive')"
      ],
      "metadata": {
        "colab": {
          "base_uri": "https://localhost:8080/"
        },
        "id": "3k5dz9aVmRt_",
        "outputId": "d8d02508-3360-4bb4-d0af-4bcfa013834c"
      },
      "execution_count": 17,
      "outputs": [
        {
          "output_type": "stream",
          "name": "stdout",
          "text": [
            "Mounted at /content/drive\n"
          ]
        }
      ]
    },
    {
      "cell_type": "markdown",
      "source": [
        "### API"
      ],
      "metadata": {
        "id": "GpNxp2oy2YFg"
      }
    },
    {
      "cell_type": "code",
      "source": [
        "!ngrok config add-authtoken <Token>"
      ],
      "metadata": {
        "colab": {
          "base_uri": "https://localhost:8080/"
        },
        "id": "ps5aWQZU1LRo",
        "outputId": "226f48d9-5141-4ca6-d109-46ba5d87be34"
      },
      "execution_count": 7,
      "outputs": [
        {
          "output_type": "stream",
          "name": "stdout",
          "text": [
            "Authtoken saved to configuration file: /root/.config/ngrok/ngrok.yml\n"
          ]
        }
      ]
    },
    {
      "cell_type": "code",
      "source": [
        "# =====================================================\n",
        "# STEP 2: Import libraries\n",
        "# =====================================================\n",
        "import torch\n",
        "import nest_asyncio\n",
        "import uvicorn\n",
        "from fastapi import FastAPI\n",
        "from pydantic import BaseModel\n",
        "from pyngrok import ngrok\n",
        "import requests\n",
        "\n",
        "from transformers import AutoTokenizer, AutoModelForCausalLM"
      ],
      "metadata": {
        "id": "1pXR2eam0ggg"
      },
      "execution_count": 8,
      "outputs": []
    },
    {
      "cell_type": "code",
      "source": [
        "# =====================================================\n",
        "# STEP 3: Define your Text Ad Generator\n",
        "# =====================================================\n",
        "class TextAdGenerator:\n",
        "    def __init__(self, model_path, tokenizer_path=None):\n",
        "        self.model_path = model_path\n",
        "        self.tokenizer_path = tokenizer_path or model_path\n",
        "        self.model = None\n",
        "        self.tokenizer = None\n",
        "\n",
        "    def load_model(self):\n",
        "        \"\"\"Load the fine-tuned LoRA adapter with the base model\"\"\"\n",
        "        print(\"Loading fine-tuned LoRA model...\")\n",
        "        clear_memory()\n",
        "\n",
        "        # Load tokenizer from base model\n",
        "        self.tokenizer = AutoTokenizer.from_pretrained(\n",
        "            \"microsoft/Phi-3-mini-4k-instruct\",\n",
        "            trust_remote_code=True\n",
        "        )\n",
        "\n",
        "        # Load base model\n",
        "        base_model = AutoModelForCausalLM.from_pretrained(\n",
        "            \"microsoft/Phi-3-mini-4k-instruct\",\n",
        "            torch_dtype=torch.bfloat16,\n",
        "            device_map=\"auto\",\n",
        "            trust_remote_code=True,\n",
        "            low_cpu_mem_usage=True,\n",
        "            max_memory={0: \"8GiB\"},\n",
        "        )\n",
        "\n",
        "        # Apply LoRA adapter\n",
        "        self.model = PeftModel.from_pretrained(base_model, self.model_path)\n",
        "\n",
        "        print(\"✅ LoRA fine-tuned model loaded successfully!\")\n",
        "\n",
        "    def generate_ad(self, product_name, product_description, max_length=128, temperature=0.7):\n",
        "        prompt = (\n",
        "            f\"Product: {product_name}\\n\"\n",
        "            f\"Description (summary): {product_description[:300]}\\n\"\n",
        "            f\"Task: Write a compelling advertisement under 100 words.\\nAd:\"\n",
        "        )\n",
        "        inputs = self.tokenizer(prompt, return_tensors=\"pt\", truncation=True, max_length=512)\n",
        "        inputs = {k: v.to(self.model.device) for k, v in inputs.items()}\n",
        "\n",
        "        with torch.no_grad():\n",
        "            outputs = self.model.generate(\n",
        "                **inputs,\n",
        "                max_new_tokens=max_length,\n",
        "                temperature=temperature,\n",
        "                do_sample=True,\n",
        "                top_p=0.9,\n",
        "                top_k=50,\n",
        "                pad_token_id=self.tokenizer.eos_token_id,\n",
        "                repetition_penalty=1.1,\n",
        "                use_cache=False,\n",
        "            )\n",
        "\n",
        "        full_response = self.tokenizer.decode(outputs[0], skip_special_tokens=True)\n",
        "        ad_text = full_response.split(\"Ad:\")[-1].strip()\n",
        "        return ad_text\n",
        "\n",
        "\n",
        "class ProductAdPipeline:\n",
        "    def __init__(self, text_model_path):\n",
        "        self.text_model_path = text_model_path\n",
        "        self.text_generator = None\n",
        "\n",
        "    def generate_complete_ad(self, product_name, product_description):\n",
        "        if self.text_generator is None:\n",
        "            self.text_generator = TextAdGenerator(self.text_model_path)\n",
        "            self.text_generator.load_model()\n",
        "        ad_text = self.text_generator.generate_ad(product_name, product_description)\n",
        "        return {\n",
        "            \"product_name\": product_name,\n",
        "            \"product_description\": product_description,\n",
        "            \"ad_text\": ad_text,\n",
        "        }"
      ],
      "metadata": {
        "id": "BWKapDZ-1fnA"
      },
      "execution_count": 9,
      "outputs": []
    },
    {
      "cell_type": "code",
      "source": [
        "from fastapi.middleware.cors import CORSMiddleware\n",
        "\n",
        "# =====================================================\n",
        "# STEP 4: FastAPI setup\n",
        "# =====================================================\n",
        "app = FastAPI()\n",
        "pipeline = ProductAdPipeline(\"./phi3-product-ads-lora\")\n",
        "\n",
        "# Allow all origins (for testing/development)\n",
        "app.add_middleware(\n",
        "    CORSMiddleware,\n",
        "    allow_origins=[\"*\"],\n",
        "    allow_credentials=True,\n",
        "    allow_methods=[\"*\"],\n",
        "    allow_headers=[\"*\"],\n",
        ")\n",
        "\n",
        "class ProductRequest(BaseModel):\n",
        "    product_name: str\n",
        "    product_description: str\n",
        "\n",
        "@app.post(\"/generate-ad\")\n",
        "def generate_ad(request: ProductRequest):\n",
        "    result = pipeline.generate_complete_ad(request.product_name, request.product_description)\n",
        "    return result\n"
      ],
      "metadata": {
        "id": "WklCUoxu2E0K"
      },
      "execution_count": 14,
      "outputs": []
    },
    {
      "cell_type": "code",
      "source": [
        "# =====================================================\n",
        "# STEP 5: Start API with ngrok\n",
        "# =====================================================\n",
        "nest_asyncio.apply()\n",
        "\n",
        "# Open ngrok tunnel\n",
        "public_url = ngrok.connect(8000)\n",
        "print(\"🚀 Public URL:\", public_url)\n",
        "\n",
        "# Run server\n",
        "config = uvicorn.Config(app=app, host=\"0.0.0.0\", port=8000, log_level=\"info\")\n",
        "server = uvicorn.Server(config)\n",
        "await server.serve()"
      ],
      "metadata": {
        "colab": {
          "base_uri": "https://localhost:8080/",
          "height": 327,
          "referenced_widgets": [
            "3b9533ce07df4803b8ae4ee8f45d812a",
            "f22f2e25751a4e0b9efb86059aa34d4f",
            "3c87d42f15df4374b28c4067d7d16634",
            "9a8f58cdeaf2450887939199249ae254",
            "85853036861a47fa94cb4c41380a8bd0",
            "10471b41f8924a1481352c0d0bf351bf",
            "b2448d55d7fc487f92ef71d0d11b64f4",
            "45280bcc886d45f6be04ee1c2e178f20",
            "59f8779c04664017842b631dc67cacc2",
            "491acd922e564a8092a3017ff16a2b15",
            "0a74c4f849754a78908572384bfe5d5c"
          ]
        },
        "id": "yooTIhUb2v-I",
        "outputId": "0ef7d59b-a1fc-4abd-f866-359ee9a11f0d"
      },
      "execution_count": 15,
      "outputs": [
        {
          "output_type": "stream",
          "name": "stdout",
          "text": [
            "🚀 Public URL: NgrokTunnel: \"https://7529711559b2.ngrok-free.app\" -> \"http://localhost:8000\"\n"
          ]
        },
        {
          "output_type": "stream",
          "name": "stderr",
          "text": [
            "INFO:     Started server process [23877]\n",
            "INFO:     Waiting for application startup.\n",
            "INFO:     Application startup complete.\n",
            "INFO:     Uvicorn running on http://0.0.0.0:8000 (Press CTRL+C to quit)\n"
          ]
        },
        {
          "output_type": "stream",
          "name": "stdout",
          "text": [
            "Loading fine-tuned LoRA model...\n"
          ]
        },
        {
          "output_type": "display_data",
          "data": {
            "text/plain": [
              "Loading checkpoint shards:   0%|          | 0/2 [00:00<?, ?it/s]"
            ],
            "application/vnd.jupyter.widget-view+json": {
              "version_major": 2,
              "version_minor": 0,
              "model_id": "3b9533ce07df4803b8ae4ee8f45d812a"
            }
          },
          "metadata": {}
        },
        {
          "output_type": "stream",
          "name": "stdout",
          "text": [
            "✅ LoRA fine-tuned model loaded successfully!\n",
            "INFO:     2402:d000:a500:4aa4:3590:9542:a87f:fa69:0 - \"POST /generate-ad HTTP/1.1\" 200 OK\n",
            "INFO:     2402:d000:a500:4aa4:3590:9542:a87f:fa69:0 - \"OPTIONS /generate-ad HTTP/1.1\" 200 OK\n",
            "INFO:     2402:d000:a500:4aa4:3590:9542:a87f:fa69:0 - \"POST /generate-ad HTTP/1.1\" 200 OK\n",
            "INFO:     2402:d000:a500:4aa4:3590:9542:a87f:fa69:0 - \"POST /generate-ad HTTP/1.1\" 200 OK\n",
            "INFO:     2402:d000:a500:4aa4:3590:9542:a87f:fa69:0 - \"POST /generate-ad HTTP/1.1\" 200 OK\n"
          ]
        },
        {
          "output_type": "stream",
          "name": "stderr",
          "text": [
            "INFO:     Shutting down\n",
            "INFO:     Waiting for application shutdown.\n",
            "INFO:     Application shutdown complete.\n",
            "INFO:     Finished server process [23877]\n"
          ]
        }
      ]
    }
  ]
}